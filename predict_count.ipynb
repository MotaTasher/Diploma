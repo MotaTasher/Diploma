{
 "cells": [
  {
   "cell_type": "markdown",
   "metadata": {},
   "source": [
    "# Обучим gpt2 на данных"
   ]
  },
  {
   "cell_type": "code",
   "execution_count": 1,
   "metadata": {},
   "outputs": [],
   "source": [
    "from transformers import GPT2Tokenizer, TFGPT2Model\n",
    "import torch\n",
    "from transformers import AutoModelForCausalLM, AutoTokenizer"
   ]
  },
  {
   "cell_type": "code",
   "execution_count": 2,
   "metadata": {},
   "outputs": [],
   "source": [
    "import os\n",
    "os.environ[\"TOKENIZERS_PARALLELISM\"] = \"false\""
   ]
  },
  {
   "cell_type": "code",
   "execution_count": 3,
   "metadata": {},
   "outputs": [
    {
     "data": {
      "text/plain": [
       "'cuda:6'"
      ]
     },
     "execution_count": 3,
     "metadata": {},
     "output_type": "execute_result"
    }
   ],
   "source": [
    "device = 'cpu' if not torch.cuda.is_available() else 'cuda:6'\n",
    "device"
   ]
  },
  {
   "cell_type": "code",
   "execution_count": 4,
   "metadata": {},
   "outputs": [
    {
     "data": {
      "text/plain": [
       "GPT2LMHeadModel(\n",
       "  (transformer): GPT2Model(\n",
       "    (wte): Embedding(50257, 768)\n",
       "    (wpe): Embedding(1024, 768)\n",
       "    (drop): Dropout(p=0.1, inplace=False)\n",
       "    (h): ModuleList(\n",
       "      (0-11): 12 x GPT2Block(\n",
       "        (ln_1): LayerNorm((768,), eps=1e-05, elementwise_affine=True)\n",
       "        (attn): GPT2Attention(\n",
       "          (c_attn): Conv1D(nf=2304, nx=768)\n",
       "          (c_proj): Conv1D(nf=768, nx=768)\n",
       "          (attn_dropout): Dropout(p=0.1, inplace=False)\n",
       "          (resid_dropout): Dropout(p=0.1, inplace=False)\n",
       "        )\n",
       "        (ln_2): LayerNorm((768,), eps=1e-05, elementwise_affine=True)\n",
       "        (mlp): GPT2MLP(\n",
       "          (c_fc): Conv1D(nf=3072, nx=768)\n",
       "          (c_proj): Conv1D(nf=768, nx=3072)\n",
       "          (act): NewGELUActivation()\n",
       "          (dropout): Dropout(p=0.1, inplace=False)\n",
       "        )\n",
       "      )\n",
       "    )\n",
       "    (ln_f): LayerNorm((768,), eps=1e-05, elementwise_affine=True)\n",
       "  )\n",
       "  (lm_head): Linear(in_features=768, out_features=50257, bias=False)\n",
       ")"
      ]
     },
     "execution_count": 4,
     "metadata": {},
     "output_type": "execute_result"
    }
   ],
   "source": [
    "model = AutoModelForCausalLM.from_pretrained(\"gpt2\", torch_dtype=torch.float16)\n",
    "model.to(device)"
   ]
  },
  {
   "cell_type": "code",
   "execution_count": 5,
   "metadata": {},
   "outputs": [],
   "source": [
    "tokenizer = AutoTokenizer.from_pretrained(\"gpt2\")"
   ]
  },
  {
   "cell_type": "code",
   "execution_count": 6,
   "metadata": {},
   "outputs": [],
   "source": [
    "prompt = \"Hello, tell me how reconstruct you for predict volume on defu crypto market\""
   ]
  },
  {
   "cell_type": "code",
   "execution_count": 7,
   "metadata": {},
   "outputs": [],
   "source": [
    "model_inputs = tokenizer([prompt], return_tensors=\"pt\").to(device)"
   ]
  },
  {
   "cell_type": "code",
   "execution_count": 8,
   "metadata": {},
   "outputs": [
    {
     "name": "stderr",
     "output_type": "stream",
     "text": [
      "Setting `pad_token_id` to `eos_token_id`:50256 for open-end generation.\n"
     ]
    }
   ],
   "source": [
    "generated_ids = model.generate(**model_inputs, max_new_tokens=1000, do_sample=True)"
   ]
  },
  {
   "cell_type": "code",
   "execution_count": 9,
   "metadata": {},
   "outputs": [
    {
     "name": "stdout",
     "output_type": "stream",
     "text": [
      "Hello, tell me how reconstruct you for predict volume on defu crypto market, how you're going to help us get bitcoin. And if you're curious, the answer is that I understand.\n",
      "\n",
      "It's just a question of finding a solution.\n",
      "\n",
      "So here we are: a cryptographic protocol which could make it possible to create volumes of transaction data on blockchains.\n",
      "\n",
      "Basically, if there is a large volume of traffic on this network, such as a few million transactions per day.\n",
      "\n",
      "The reason is that if you give us a single transaction, then you will find that there is a probability that some people will try to buy the entire block.\n",
      "\n",
      "So that doesn't tell us very much about the actual transactions in blockchains.\n",
      "\n",
      "So, what we are concerned with is generating a volume of transactions from a small number of people on the network, and having them fill in what their value of bitcoin would be.\n",
      "\n",
      "We want our volume to be smaller than that of bitcoin and to be less like bitcoin if you will.\n",
      "\n",
      "That is, we want the volume to be less like bitcoin, and not have a total of 50 transactions per day, and not have a 100x greater volume of transaction data at a given time.\n",
      "\n",
      "So our approach is to do 100x lower number of transactions per day as well as reduce the block size by 30 times more.\n",
      "\n",
      "What we want to achieve, for this is, to have a very predictable system.\n",
      "\n",
      "\n",
      "Bitcoin does not just work in one place.\n",
      "\n",
      "The first place users would want to buy the blocks as we are giving them is at a random beginning of the system.\n",
      "\n",
      "That is where we will start to work on the blockchain.\n",
      "\n",
      "So that means if we have some kind of data that stores all the transactions in the blockchain, there is no way for any people to be able to find a way to trade money on it, other than if they are in a way to do the transaction, that is where our plan is.\n",
      "\n",
      "So that is where we will start to work on.\n",
      "\n",
      "Since we're going to be using large data so it will take a while to come up with a way to do that, we're also going to be trying to start taking a look at how things would be encoded.\n",
      "\n",
      "We already have a structure under which we can encode something like this.\n",
      "\n",
      "But for these large data it can be decoded with just one line of data.\n",
      "\n",
      "So that means we could begin by just looking at the header for this block in our blockchain:\n",
      "\n",
      "tx_hash = new tx_hash // is the transaction hash itself, but you can write it in multiple lines or some form of bytecode if you prefer otherwise // will be able to determine how much value the block should have, and how many transactions could be executed (see footnote) return true end\n",
      "\n",
      "As you will see, it's a pretty simple structure under which information can be written.\n",
      "\n",
      "But what makes this block really really interesting is that, of course, it can only be encoded for those block inputs and not for every block output.\n",
      "\n",
      "And our block could all be output for all input outputs at once.\n",
      "\n",
      "It is also worth repeating that this is a block that has all of the transactions that we are giving to you, and all of those are valid from that start.\n",
      "\n",
      "So once that's over, we can generate blocks for all of those inputs.\n",
      "\n",
      "We also have some other ideas about what would happen if a number of outputs were being produced.\n",
      "\n",
      "As you can see, this isn't really anything exciting, it could be a very very large number of inputs.\n",
      "\n",
      "We're just not thinking about it, we are just working on it.\n",
      "\n",
      "So any amount of output in the blockchain by users would be something like this as well:\n",
      "\n",
      "value = value + 0.5 / inputs + 1 + 0.2 / outputs + 1 + 0.7 / inputs + 0 / outputs + 1 - 1 / outputs + 1 + 1 / inputs\n",
      "\n",
      "We are all working on doing that, and we're already generating blocks.\n",
      "\n",
      "And this time, we are just beginning to think about how to create blocks to help us fill that volume.\n",
      "\n",
      "Is this worth it?\n",
      "\n",
      "\n",
      "This post is part of the BBC Future series \"The Great Digital Transformation\". Join the conversation on Facebook here or on twitter here.\n",
      "\n",
      "You can view this post in my Flickr album here.\n",
      "\n",
      "Image Credit: Shutterstock<|endoftext|>\n"
     ]
    }
   ],
   "source": [
    "print(tokenizer.batch_decode(generated_ids)[0])"
   ]
  },
  {
   "cell_type": "markdown",
   "metadata": {},
   "source": [
    "# Testing crio\n",
    " "
   ]
  },
  {
   "cell_type": "code",
   "execution_count": 10,
   "metadata": {},
   "outputs": [],
   "source": [
    "import pandas as pd\n",
    "import numpy as np\n",
    "import json\n",
    "import typing as tp\n",
    "from tqdm.notebook import tqdm\n",
    "from plotly_resampler import FigureResampler"
   ]
  },
  {
   "cell_type": "code",
   "execution_count": 11,
   "metadata": {},
   "outputs": [],
   "source": [
    "import matplotlib.pyplot as plt\n",
    "import plotly.express as px\n",
    "import plotly.graph_objects as go\n",
    "from sklearn.model_selection import train_test_split"
   ]
  },
  {
   "cell_type": "code",
   "execution_count": 12,
   "metadata": {},
   "outputs": [],
   "source": [
    "import Code.Dataloader as DataloaderLib\n",
    "import Code.Logger as LogsLib\n",
    "import Code.Dataset as DatasetLib\n",
    "import Code.ModelBertV1 as ModelLib\n",
    "import Code.Train as TrainLib\n",
    "\n",
    "%load_ext autoreload\n",
    "%autoreload 2\n",
    "\n",
    "import importlib\n",
    "importlib.reload(DataloaderLib)\n",
    "importlib.reload(DatasetLib)\n",
    "importlib.reload(LogsLib)\n",
    "importlib.reload(ModelLib)\n",
    "importlib.reload(TrainLib)\n",
    "\n",
    "import Code.Dataloader as DataloaderLib\n",
    "import Code.Logger as LogsLib\n",
    "import Code.Dataset as DatasetLib\n",
    "import Code.ModelBertV1 as ModelLib\n",
    "import Code.Train as TrainLib"
   ]
  },
  {
   "cell_type": "code",
   "execution_count": 13,
   "metadata": {},
   "outputs": [
    {
     "name": "stdout",
     "output_type": "stream",
     "text": [
      "The autoreload extension is already loaded. To reload it, use:\n",
      "  %reload_ext autoreload\n"
     ]
    }
   ],
   "source": [
    "%load_ext autoreload\n",
    "%autoreload 2"
   ]
  },
  {
   "cell_type": "code",
   "execution_count": 14,
   "metadata": {},
   "outputs": [],
   "source": [
    "# start_ind = int(1e7)\n",
    "# transactions = DataloaderLib.GetTransactionsByInd(range(start_ind, start_ind + 150), logger_fake='logger_loader')"
   ]
  },
  {
   "cell_type": "code",
   "execution_count": 15,
   "metadata": {},
   "outputs": [],
   "source": [
    "# last_ind = int(2e7 + 1e6)\n",
    "# size = 100\n",
    "# transactions = DataloaderLib.GetTransactionsByInd(range(last_ind, last_ind - size, -1), logger_fake='logger_loader')\n",
    "# df_to_for_predict = transactions.loc[:, DataloaderLib.useful_columns]"
   ]
  },
  {
   "cell_type": "code",
   "execution_count": 16,
   "metadata": {},
   "outputs": [],
   "source": [
    "# last_ind = int(2e7 + 1e6)\n",
    "# size = 4000\n",
    "# transactions = DataloaderLib.GetTransactionsByInd(range(last_ind, last_ind - size, -1), logger_fake='logger_loader')\n",
    "# df_to_for_predict = transactions.loc[:, DataloaderLib.useful_columns]"
   ]
  },
  {
   "cell_type": "code",
   "execution_count": 17,
   "metadata": {},
   "outputs": [],
   "source": [
    "# last_ind = int(2e7 + 1e6)\n",
    "# size = 6000\n",
    "# transactions = DataloaderLib.GetTransactionsByInd(range(last_ind, last_ind - size, -1), logger_fake='logger_loader')\n",
    "# dataset = transactions.loc[:, DataloaderLib.useful_columns]"
   ]
  },
  {
   "cell_type": "code",
   "execution_count": 18,
   "metadata": {},
   "outputs": [
    {
     "data": {
      "application/vnd.jupyter.widget-view+json": {
       "model_id": "028b84f3df4f4e0cbdd74e847fe6ffa9",
       "version_major": 2,
       "version_minor": 0
      },
      "text/plain": [
       "  0%|          | 0/5000 [00:00<?, ?it/s]"
      ]
     },
     "metadata": {},
     "output_type": "display_data"
    },
    {
     "name": "stdout",
     "output_type": "stream",
     "text": [
      "Write at logger: logs/logs_116.log\n"
     ]
    }
   ],
   "source": [
    "# %%time\n",
    "cnt_trades = 500_000\n",
    "# cnt_trades = 30\n",
    "df_raw = DataloaderLib.DatasetTimeBoomAuthorDependence(cnt_trades, count_people=20, cnt_boom=cnt_trades // 100, sigma=10000)"
   ]
  },
  {
   "cell_type": "code",
   "execution_count": 19,
   "metadata": {},
   "outputs": [
    {
     "data": {
      "text/html": [
       "\n",
       "        <iframe\n",
       "            width=\"100%\"\n",
       "            height=\"468\"\n",
       "            src=\"http://127.0.0.1:8050/\"\n",
       "            frameborder=\"0\"\n",
       "            allowfullscreen\n",
       "            \n",
       "        ></iframe>\n",
       "        "
      ],
      "text/plain": [
       "<IPython.lib.display.IFrame at 0x7f42f5aebb60>"
      ]
     },
     "metadata": {},
     "output_type": "display_data"
    }
   ],
   "source": [
    "FigureResampler(px.line(x=df_raw.timestamp, y=df_raw.value, line_shape='hv'))"
   ]
  },
  {
   "cell_type": "code",
   "execution_count": 20,
   "metadata": {},
   "outputs": [
    {
     "data": {
      "text/plain": [
       "(np.float64(4.018915283173273), np.float64(16.15168005332371))"
      ]
     },
     "execution_count": 20,
     "metadata": {},
     "output_type": "execute_result"
    }
   ],
   "source": [
    "(df_raw.value - df_raw.value.mean()).std(), (df_raw.value - df_raw.value.mean()).std() ** 2"
   ]
  },
  {
   "cell_type": "code",
   "execution_count": 21,
   "metadata": {},
   "outputs": [
    {
     "name": "stdout",
     "output_type": "stream",
     "text": [
      "Write at logger: logs/logs_117.log\n"
     ]
    }
   ],
   "source": [
    "df_raw = DataloaderLib.SimpleDataloader(500_000, count_people=10)\n",
    "df_to_for_predict = df_raw"
   ]
  },
  {
   "cell_type": "code",
   "execution_count": 22,
   "metadata": {},
   "outputs": [],
   "source": [
    "train_dataset, val_dataset = train_test_split(df_raw, test_size=1/4)"
   ]
  },
  {
   "cell_type": "code",
   "execution_count": 23,
   "metadata": {},
   "outputs": [
    {
     "data": {
      "text/plain": [
       "((375000, 4), (125000, 4))"
      ]
     },
     "execution_count": 23,
     "metadata": {},
     "output_type": "execute_result"
    }
   ],
   "source": [
    "train_dataset.shape, val_dataset.shape"
   ]
  },
  {
   "cell_type": "markdown",
   "metadata": {},
   "source": [
    "# Смотрим на датасет"
   ]
  },
  {
   "cell_type": "code",
   "execution_count": 24,
   "metadata": {},
   "outputs": [
    {
     "data": {
      "text/html": [
       "<div>\n",
       "<style scoped>\n",
       "    .dataframe tbody tr th:only-of-type {\n",
       "        vertical-align: middle;\n",
       "    }\n",
       "\n",
       "    .dataframe tbody tr th {\n",
       "        vertical-align: top;\n",
       "    }\n",
       "\n",
       "    .dataframe thead th {\n",
       "        text-align: right;\n",
       "    }\n",
       "</style>\n",
       "<table border=\"1\" class=\"dataframe\">\n",
       "  <thead>\n",
       "    <tr style=\"text-align: right;\">\n",
       "      <th></th>\n",
       "      <th>from</th>\n",
       "      <th>to</th>\n",
       "      <th>value</th>\n",
       "      <th>timestamp</th>\n",
       "    </tr>\n",
       "  </thead>\n",
       "  <tbody>\n",
       "    <tr>\n",
       "      <th>0</th>\n",
       "      <td>6</td>\n",
       "      <td>8</td>\n",
       "      <td>0</td>\n",
       "      <td>2.282878</td>\n",
       "    </tr>\n",
       "    <tr>\n",
       "      <th>1</th>\n",
       "      <td>3</td>\n",
       "      <td>5</td>\n",
       "      <td>1</td>\n",
       "      <td>3.364973</td>\n",
       "    </tr>\n",
       "    <tr>\n",
       "      <th>2</th>\n",
       "      <td>7</td>\n",
       "      <td>1</td>\n",
       "      <td>1</td>\n",
       "      <td>5.204858</td>\n",
       "    </tr>\n",
       "    <tr>\n",
       "      <th>3</th>\n",
       "      <td>4</td>\n",
       "      <td>8</td>\n",
       "      <td>1</td>\n",
       "      <td>8.015318</td>\n",
       "    </tr>\n",
       "    <tr>\n",
       "      <th>4</th>\n",
       "      <td>6</td>\n",
       "      <td>0</td>\n",
       "      <td>0</td>\n",
       "      <td>9.383892</td>\n",
       "    </tr>\n",
       "    <tr>\n",
       "      <th>...</th>\n",
       "      <td>...</td>\n",
       "      <td>...</td>\n",
       "      <td>...</td>\n",
       "      <td>...</td>\n",
       "    </tr>\n",
       "    <tr>\n",
       "      <th>499995</th>\n",
       "      <td>3</td>\n",
       "      <td>6</td>\n",
       "      <td>1</td>\n",
       "      <td>999382.992811</td>\n",
       "    </tr>\n",
       "    <tr>\n",
       "      <th>499996</th>\n",
       "      <td>0</td>\n",
       "      <td>3</td>\n",
       "      <td>0</td>\n",
       "      <td>999385.580016</td>\n",
       "    </tr>\n",
       "    <tr>\n",
       "      <th>499997</th>\n",
       "      <td>8</td>\n",
       "      <td>6</td>\n",
       "      <td>1</td>\n",
       "      <td>999388.141624</td>\n",
       "    </tr>\n",
       "    <tr>\n",
       "      <th>499998</th>\n",
       "      <td>7</td>\n",
       "      <td>2</td>\n",
       "      <td>1</td>\n",
       "      <td>999390.39277</td>\n",
       "    </tr>\n",
       "    <tr>\n",
       "      <th>499999</th>\n",
       "      <td>7</td>\n",
       "      <td>6</td>\n",
       "      <td>1</td>\n",
       "      <td>999391.646226</td>\n",
       "    </tr>\n",
       "  </tbody>\n",
       "</table>\n",
       "<p>500000 rows × 4 columns</p>\n",
       "</div>"
      ],
      "text/plain": [
       "       from to value      timestamp\n",
       "0         6  8     0       2.282878\n",
       "1         3  5     1       3.364973\n",
       "2         7  1     1       5.204858\n",
       "3         4  8     1       8.015318\n",
       "4         6  0     0       9.383892\n",
       "...     ... ..   ...            ...\n",
       "499995    3  6     1  999382.992811\n",
       "499996    0  3     0  999385.580016\n",
       "499997    8  6     1  999388.141624\n",
       "499998    7  2     1   999390.39277\n",
       "499999    7  6     1  999391.646226\n",
       "\n",
       "[500000 rows x 4 columns]"
      ]
     },
     "execution_count": 24,
     "metadata": {},
     "output_type": "execute_result"
    }
   ],
   "source": [
    "df_to_for_predict"
   ]
  },
  {
   "cell_type": "code",
   "execution_count": 25,
   "metadata": {},
   "outputs": [
    {
     "data": {
      "text/html": [
       "<div>\n",
       "<style scoped>\n",
       "    .dataframe tbody tr th:only-of-type {\n",
       "        vertical-align: middle;\n",
       "    }\n",
       "\n",
       "    .dataframe tbody tr th {\n",
       "        vertical-align: top;\n",
       "    }\n",
       "\n",
       "    .dataframe thead th {\n",
       "        text-align: right;\n",
       "    }\n",
       "</style>\n",
       "<table border=\"1\" class=\"dataframe\">\n",
       "  <thead>\n",
       "    <tr style=\"text-align: right;\">\n",
       "      <th></th>\n",
       "      <th>from</th>\n",
       "      <th>to</th>\n",
       "      <th>value</th>\n",
       "      <th>timestamp</th>\n",
       "    </tr>\n",
       "  </thead>\n",
       "  <tbody>\n",
       "    <tr>\n",
       "      <th>0</th>\n",
       "      <td>6</td>\n",
       "      <td>8</td>\n",
       "      <td>0</td>\n",
       "      <td>2.282878</td>\n",
       "    </tr>\n",
       "    <tr>\n",
       "      <th>1</th>\n",
       "      <td>3</td>\n",
       "      <td>5</td>\n",
       "      <td>1</td>\n",
       "      <td>3.364973</td>\n",
       "    </tr>\n",
       "    <tr>\n",
       "      <th>2</th>\n",
       "      <td>7</td>\n",
       "      <td>1</td>\n",
       "      <td>1</td>\n",
       "      <td>5.204858</td>\n",
       "    </tr>\n",
       "    <tr>\n",
       "      <th>3</th>\n",
       "      <td>4</td>\n",
       "      <td>8</td>\n",
       "      <td>1</td>\n",
       "      <td>8.015318</td>\n",
       "    </tr>\n",
       "    <tr>\n",
       "      <th>4</th>\n",
       "      <td>6</td>\n",
       "      <td>0</td>\n",
       "      <td>0</td>\n",
       "      <td>9.383892</td>\n",
       "    </tr>\n",
       "  </tbody>\n",
       "</table>\n",
       "</div>"
      ],
      "text/plain": [
       "  from to value timestamp\n",
       "0    6  8     0  2.282878\n",
       "1    3  5     1  3.364973\n",
       "2    7  1     1  5.204858\n",
       "3    4  8     1  8.015318\n",
       "4    6  0     0  9.383892"
      ]
     },
     "execution_count": 25,
     "metadata": {},
     "output_type": "execute_result"
    }
   ],
   "source": [
    "df_to_for_predict.head(5)"
   ]
  },
  {
   "cell_type": "code",
   "execution_count": 26,
   "metadata": {},
   "outputs": [
    {
     "data": {
      "text/plain": [
       "10"
      ]
     },
     "execution_count": 26,
     "metadata": {},
     "output_type": "execute_result"
    }
   ],
   "source": [
    "len(df_to_for_predict['from'].value_counts())"
   ]
  },
  {
   "cell_type": "code",
   "execution_count": 27,
   "metadata": {},
   "outputs": [],
   "source": [
    "# df_to_for_predict['to'].value_counts()[1038152369971993893212000844348416056966454179089]"
   ]
  },
  {
   "cell_type": "code",
   "execution_count": 28,
   "metadata": {},
   "outputs": [],
   "source": [
    "# df_to_for_predict.groupby('from').value.mean()[1038152369971993893212000844348416056966454179089]"
   ]
  },
  {
   "cell_type": "code",
   "execution_count": 29,
   "metadata": {},
   "outputs": [],
   "source": [
    "mean_sell = df_to_for_predict.groupby('from').value.mean()"
   ]
  },
  {
   "cell_type": "code",
   "execution_count": 30,
   "metadata": {},
   "outputs": [
    {
     "data": {
      "text/plain": [
       "Index([0, 1, 2, 3, 4, 5, 6, 7, 8, 9], dtype='object', name='from')"
      ]
     },
     "execution_count": 30,
     "metadata": {},
     "output_type": "execute_result"
    }
   ],
   "source": [
    "top_sellers = df_to_for_predict['from'].value_counts().keys().sort_values()\n",
    "top_sellers"
   ]
  },
  {
   "cell_type": "code",
   "execution_count": 31,
   "metadata": {},
   "outputs": [
    {
     "data": {
      "text/plain": [
       "Index([0, 1, 2, 3, 4, 5, 6, 7, 8, 9], dtype='object', name='from')"
      ]
     },
     "execution_count": 31,
     "metadata": {},
     "output_type": "execute_result"
    }
   ],
   "source": [
    "top_sellers"
   ]
  },
  {
   "cell_type": "code",
   "execution_count": 32,
   "metadata": {},
   "outputs": [
    {
     "data": {
      "image/png": "[encoded data removed]",
      "text/plain": [
       "<Figure size 640x480 with 1 Axes>"
      ]
     },
     "metadata": {},
     "output_type": "display_data"
    }
   ],
   "source": [
    "plt.hist(top_sellers[top_sellers < 20], bins=20);"
   ]
  },
  {
   "cell_type": "code",
   "execution_count": 33,
   "metadata": {},
   "outputs": [
    {
     "data": {
      "image/png": "[encoded data removed]",
      "text/plain": [
       "<Figure size 640x480 with 1 Axes>"
      ]
     },
     "metadata": {},
     "output_type": "display_data"
    }
   ],
   "source": [
    "plt.hist(top_sellers[(top_sellers > 20) & (top_sellers <= 100)], bins=40);"
   ]
  },
  {
   "cell_type": "code",
   "execution_count": 34,
   "metadata": {},
   "outputs": [
    {
     "data": {
      "image/png": "[encoded data removed]",
      "text/plain": [
       "<Figure size 640x480 with 1 Axes>"
      ]
     },
     "metadata": {},
     "output_type": "display_data"
    }
   ],
   "source": [
    "plt.hist(top_sellers[top_sellers > 100], bins=50);"
   ]
  },
  {
   "cell_type": "code",
   "execution_count": 35,
   "metadata": {},
   "outputs": [],
   "source": [
    "# pd.DataFrame(\n",
    "#     [df_to_for_predict.loc[df_to_for_predict['from'] == ind, 'value'].describe().values.reshape(8) for ind in top_sellers],\n",
    "#     index=top_sellers,\n",
    "#     columns=df_to_for_predict.loc[df_to_for_predict['from'] == top_sellers[0], 'value'].describe().index\n",
    "#     )\n"
   ]
  },
  {
   "cell_type": "markdown",
   "metadata": {},
   "source": [
    "# Bert!!!"
   ]
  },
  {
   "cell_type": "code",
   "execution_count": 36,
   "metadata": {},
   "outputs": [],
   "source": [
    "import datetime\n",
    "import torch\n",
    "import torch.nn as nn\n",
    "import torch.optim as optim\n",
    "from torch.utils.data import Dataset, DataLoader\n",
    "from transformers import BertConfig, BertModel\n",
    "import numpy as np"
   ]
  },
  {
   "cell_type": "code",
   "execution_count": 37,
   "metadata": {},
   "outputs": [],
   "source": [
    "cnt_known_address = int(1e3)\n",
    "known_address = pd.concat([df_to_for_predict['to'], df_to_for_predict['from']]).value_counts()[:cnt_known_address].keys().sort_values()"
   ]
  },
  {
   "cell_type": "code",
   "execution_count": 38,
   "metadata": {},
   "outputs": [
    {
     "data": {
      "text/plain": [
       "Index([0, 1, 2, 3, 4, 5, 6, 7, 8, 9], dtype='object')"
      ]
     },
     "execution_count": 38,
     "metadata": {},
     "output_type": "execute_result"
    }
   ],
   "source": [
    "known_address"
   ]
  },
  {
   "cell_type": "code",
   "execution_count": 39,
   "metadata": {},
   "outputs": [
    {
     "data": {
      "text/html": [
       "<div>\n",
       "<style scoped>\n",
       "    .dataframe tbody tr th:only-of-type {\n",
       "        vertical-align: middle;\n",
       "    }\n",
       "\n",
       "    .dataframe tbody tr th {\n",
       "        vertical-align: top;\n",
       "    }\n",
       "\n",
       "    .dataframe thead th {\n",
       "        text-align: right;\n",
       "    }\n",
       "</style>\n",
       "<table border=\"1\" class=\"dataframe\">\n",
       "  <thead>\n",
       "    <tr style=\"text-align: right;\">\n",
       "      <th></th>\n",
       "      <th>from</th>\n",
       "      <th>to</th>\n",
       "      <th>value</th>\n",
       "      <th>timestamp</th>\n",
       "    </tr>\n",
       "  </thead>\n",
       "  <tbody>\n",
       "    <tr>\n",
       "      <th>0</th>\n",
       "      <td>6</td>\n",
       "      <td>8</td>\n",
       "      <td>0</td>\n",
       "      <td>2.282878</td>\n",
       "    </tr>\n",
       "    <tr>\n",
       "      <th>1</th>\n",
       "      <td>3</td>\n",
       "      <td>5</td>\n",
       "      <td>1</td>\n",
       "      <td>3.364973</td>\n",
       "    </tr>\n",
       "    <tr>\n",
       "      <th>2</th>\n",
       "      <td>7</td>\n",
       "      <td>1</td>\n",
       "      <td>1</td>\n",
       "      <td>5.204858</td>\n",
       "    </tr>\n",
       "    <tr>\n",
       "      <th>3</th>\n",
       "      <td>4</td>\n",
       "      <td>8</td>\n",
       "      <td>1</td>\n",
       "      <td>8.015318</td>\n",
       "    </tr>\n",
       "    <tr>\n",
       "      <th>4</th>\n",
       "      <td>6</td>\n",
       "      <td>0</td>\n",
       "      <td>0</td>\n",
       "      <td>9.383892</td>\n",
       "    </tr>\n",
       "    <tr>\n",
       "      <th>...</th>\n",
       "      <td>...</td>\n",
       "      <td>...</td>\n",
       "      <td>...</td>\n",
       "      <td>...</td>\n",
       "    </tr>\n",
       "    <tr>\n",
       "      <th>499995</th>\n",
       "      <td>3</td>\n",
       "      <td>6</td>\n",
       "      <td>1</td>\n",
       "      <td>999382.992811</td>\n",
       "    </tr>\n",
       "    <tr>\n",
       "      <th>499996</th>\n",
       "      <td>0</td>\n",
       "      <td>3</td>\n",
       "      <td>0</td>\n",
       "      <td>999385.580016</td>\n",
       "    </tr>\n",
       "    <tr>\n",
       "      <th>499997</th>\n",
       "      <td>8</td>\n",
       "      <td>6</td>\n",
       "      <td>1</td>\n",
       "      <td>999388.141624</td>\n",
       "    </tr>\n",
       "    <tr>\n",
       "      <th>499998</th>\n",
       "      <td>7</td>\n",
       "      <td>2</td>\n",
       "      <td>1</td>\n",
       "      <td>999390.39277</td>\n",
       "    </tr>\n",
       "    <tr>\n",
       "      <th>499999</th>\n",
       "      <td>7</td>\n",
       "      <td>6</td>\n",
       "      <td>1</td>\n",
       "      <td>999391.646226</td>\n",
       "    </tr>\n",
       "  </tbody>\n",
       "</table>\n",
       "<p>500000 rows × 4 columns</p>\n",
       "</div>"
      ],
      "text/plain": [
       "       from to value      timestamp\n",
       "0         6  8     0       2.282878\n",
       "1         3  5     1       3.364973\n",
       "2         7  1     1       5.204858\n",
       "3         4  8     1       8.015318\n",
       "4         6  0     0       9.383892\n",
       "...     ... ..   ...            ...\n",
       "499995    3  6     1  999382.992811\n",
       "499996    0  3     0  999385.580016\n",
       "499997    8  6     1  999388.141624\n",
       "499998    7  2     1   999390.39277\n",
       "499999    7  6     1  999391.646226\n",
       "\n",
       "[500000 rows x 4 columns]"
      ]
     },
     "execution_count": 39,
     "metadata": {},
     "output_type": "execute_result"
    }
   ],
   "source": [
    "df_raw"
   ]
  },
  {
   "cell_type": "code",
   "execution_count": 40,
   "metadata": {},
   "outputs": [
    {
     "name": "stdout",
     "output_type": "stream",
     "text": [
      "numeric_features: torch.Size([100, 1])\n",
      "from_address: torch.Size([100])\n",
      "to_address: torch.Size([100])\n",
      "time_features: torch.Size([100, 3])\n",
      "value: torch.Size([100])\n"
     ]
    },
    {
     "name": "stderr",
     "output_type": "stream",
     "text": [
      "/home/motatasher/Documents/University/Diploma/Diploma/Code/Dataset.py:49: UserWarning:\n",
      "\n",
      "The use of `x.T` on tensors of dimension other than 2 to reverse their shape is deprecated and it will throw an error in a future release. Consider `x.mT` to transpose batches of matrices or `x.permute(*torch.arange(x.ndim - 1, -1, -1))` to reverse the dimensions of a tensor. (Triggered internally at /pytorch/aten/src/ATen/native/TensorShape.cpp:3725.)\n",
      "\n"
     ]
    }
   ],
   "source": [
    "dataset = DatasetLib.TransactionDataset(df_raw, list(known_address), 100)\n",
    "for name, value in dataset[0].items():\n",
    "    print(f\"{name}: {value.shape}\")"
   ]
  },
  {
   "cell_type": "code",
   "execution_count": 67,
   "metadata": {},
   "outputs": [],
   "source": [
    "model = ModelLib.BertForTransactionRegressionV1(len(known_address), 64).to(device)"
   ]
  },
  {
   "cell_type": "code",
   "execution_count": 68,
   "metadata": {},
   "outputs": [],
   "source": [
    "dataset_params = dict(\n",
    "    known_address = list(known_address),\n",
    "    sample_len = 100,\n",
    ")"
   ]
  },
  {
   "cell_type": "code",
   "execution_count": 70,
   "metadata": {},
   "outputs": [],
   "source": [
    "train_dataloader = torch.utils.data.DataLoader(\n",
    "    DatasetLib.TransactionDataset(train_dataset, **dataset_params),\n",
    "    batch_size=64,\n",
    "    shuffle=True,\n",
    "    num_workers=0)\n",
    "\n",
    "val_dataloader = torch.utils.data.DataLoader(\n",
    "    DatasetLib.TransactionDataset(val_dataset, **dataset_params),\n",
    "    batch_size=32,\n",
    "    shuffle=True,\n",
    "    num_workers=0)"
   ]
  },
  {
   "cell_type": "code",
   "execution_count": 71,
   "metadata": {},
   "outputs": [],
   "source": [
    "# TrainLib.train_model(model, model_predictor=TrainLib.scalar_dot_predictor, train_loader=train_dataloader,\n",
    "#                      val_loader=val_dataloader, num_epochs=1000, learning_rate=3e-7,\n",
    "#                      start_epoch=0, gamma=0.8, step_size=10, device=device, warmup_epochs=1)"
   ]
  },
  {
   "cell_type": "code",
   "execution_count": 76,
   "metadata": {},
   "outputs": [
    {
     "data": {
      "application/vnd.jupyter.widget-view+json": {
       "model_id": "fd264126eb5b421680cb12311bca21c9",
       "version_major": 2,
       "version_minor": 0
      },
      "text/plain": [
       "  0%|          | 0/59 [00:00<?, ?it/s]"
      ]
     },
     "metadata": {},
     "output_type": "display_data"
    },
    {
     "data": {
      "application/vnd.jupyter.widget-view+json": {
       "model_id": "8db535949c514aafb40afce8b76b847b",
       "version_major": 2,
       "version_minor": 0
      },
      "text/plain": [
       "  0%|          | 0/40 [00:00<?, ?it/s]"
      ]
     },
     "metadata": {},
     "output_type": "display_data"
    },
    {
     "data": {
      "application/vnd.jupyter.widget-view+json": {
       "model_id": "82a262fa7d974a92bd81f26ff95aaa08",
       "version_major": 2,
       "version_minor": 0
      },
      "text/plain": [
       "  0%|          | 0/59 [00:00<?, ?it/s]"
      ]
     },
     "metadata": {},
     "output_type": "display_data"
    }
   ],
   "source": [
    "TrainLib.train_model(model, TrainLib.time_cross_predictior, train_dataloader, result_loss=TrainLib.result_loss_slower_change,\n",
    "                     val_loader=val_dataloader, num_epochs=1000, learning_rate=3e-7, start_epoch=0, gamma=0.8, step_size=10, device=device,\n",
    "                     time_coef_loss=1/128)"
   ]
  },
  {
   "cell_type": "code",
   "execution_count": 69,
   "metadata": {},
   "outputs": [
    {
     "name": "stdout",
     "output_type": "stream",
     "text": [
      "Epoch [217/1000], Train Loss: 1.0212, Test Loss: 1.0165\n"
     ]
    },
    {
     "data": {
      "application/vnd.plotly.v1+json": {
       "config": {
        "plotlyServerURL": "https://plot.ly"
       },
       "data": [
        {
         "mode": "lines",
         "name": "Train loss",
         "type": "scatter",
         "x": [
          0,
          1,
          2,
          3,
          4,
          5,
          6,
          7,
          8,
          9,
          10,
          11,
          12,
          13,
          14,
          15,
          16,
          17,
          18,
          19,
          20,
          21,
          22,
          23,
          24,
          25,
          26,
          27,
          28,
          29,
          30,
          31,
          32,
          33,
          34,
          35,
          36,
          37,
          38,
          39,
          40,
          41,
          42,
          43,
          44,
          45,
          46,
          47,
          48,
          49,
          50,
          51,
          52,
          53,
          54,
          55,
          56,
          57,
          58,
          59,
          60,
          61,
          62,
          63,
          64,
          65,
          66,
          67,
          68,
          69,
          70,
          71,
          72,
          73,
          74,
          75,
          76,
          77,
          78,
          79,
          80,
          81,
          82,
          83,
          84,
          85,
          86,
          87,
          88,
          89,
          90,
          91,
          92,
          93,
          94,
          95,
          96,
          97,
          98,
          99,
          100,
          101,
          102,
          103,
          104,
          105,
          106,
          107,
          108,
          109,
          110,
          111,
          112,
          113,
          114,
          115,
          116,
          117,
          118,
          119,
          120,
          121,
          122,
          123,
          124,
          125,
          126,
          127,
          128,
          129,
          130,
          131,
          132,
          133,
          134,
          135,
          136,
          137,
          138,
          139,
          140,
          141,
          142,
          143,
          144,
          145,
          146,
          147,
          148,
          149,
          150,
          151,
          152,
          153,
          154,
          155,
          156,
          157,
          158,
          159,
          160,
          161,
          162,
          163,
          164,
          165,
          166,
          167,
          168,
          169,
          170,
          171,
          172,
          173,
          174,
          175,
          176,
          177,
          178,
          179,
          180,
          181,
          182,
          183,
          184,
          185,
          186,
          187,
          188,
          189,
          190,
          191,
          192,
          193,
          194,
          195,
          196,
          197,
          198,
          199,
          200,
          201,
          202,
          203,
          204,
          205,
          206,
          207,
          208,
          209,
          210,
          211,
          212,
          213,
          214,
          215,
          216
         ],
         "y": [
          54.11601018097441,
          53.866353762351864,
          53.71704618809587,
          53.99029398772676,
          53.96489023758193,
          53.86693948002185,
          53.93511807716499,
          53.924210176629536,
          54.252677982136355,
          53.888491937669656,
          51.55599994982703,
          46.995840428239205,
          42.87008919150142,
          38.85775368900622,
          35.647007570428364,
          32.6574261228917,
          30.2073396262476,
          27.48500652636512,
          25.241511425729524,
          23.025689141225005,
          20.371055473715572,
          17.418912451146014,
          14.962654598688674,
          12.903455233169815,
          11.31549812575518,
          9.961890042838403,
          8.972804344306558,
          8.11878308603319,
          7.470331596115888,
          6.8628569215030994,
          6.344004760354252,
          5.868126287298687,
          5.482214628639868,
          5.252058570667849,
          4.920354148088875,
          4.760971214811681,
          4.666181919938427,
          4.471934957019354,
          4.401315159716849,
          4.39481846356796,
          4.214140403068672,
          3.9870092262656,
          3.9658465021747653,
          3.8434183355105125,
          3.737534458354368,
          3.7008436009035273,
          3.5950151580875205,
          3.532137842501624,
          3.4429829807604775,
          3.3166225522251453,
          3.2494215924861067,
          3.170304092310243,
          3.136213924925206,
          2.9775260181750283,
          2.918181298142773,
          2.8239135176448498,
          2.789905164201381,
          2.741687014951544,
          2.655624013836101,
          2.5498375771409374,
          2.553403959435932,
          2.5065433332475564,
          2.4173678058688925,
          2.4176710823834955,
          2.3292984154264804,
          2.268667667599048,
          2.2625777276895813,
          2.2503907215797296,
          2.159766609385862,
          2.14442558409804,
          2.1070585170034635,
          2.0837556305578198,
          2.0404296244605113,
          1.9942216448864694,
          1.9780212701377222,
          1.9736346713567183,
          1.9358092849537478,
          1.896315924191879,
          1.8699712793705827,
          1.8682963989548764,
          1.8175459150540627,
          1.8138448646513081,
          1.8083703194634388,
          1.760030312053228,
          1.7252996452784135,
          1.722747938107636,
          1.6876674506623865,
          1.6904447604033908,
          1.6687299316212283,
          1.6592538255756184,
          1.6288944866697668,
          1.5973448672537076,
          1.5909860134124756,
          1.5687771793139182,
          1.5648159596879603,
          1.55534184787233,
          1.5426125587043116,
          1.5515184644925393,
          1.5214665340164961,
          1.4812415595782005,
          1.4735996622150227,
          1.461582464686895,
          1.454415224366269,
          1.4567229081008395,
          1.4399314411615922,
          1.4266545085583704,
          1.404373199252759,
          1.3966864670737316,
          1.4048169952327922,
          1.3712012484922247,
          1.3888065552307387,
          1.3829871032197596,
          1.3555319208209797,
          1.3520777265904314,
          1.3551259283292092,
          1.3387838440426325,
          1.3282544491654735,
          1.3186798802876876,
          1.3157654253102966,
          1.3046386827856808,
          1.3046178979388738,
          1.2856115183587802,
          1.2918466127524941,
          1.2825328636977633,
          1.2801498922251038,
          1.26058252181037,
          1.2586684489654283,
          1.2683559817782903,
          1.2561802500385348,
          1.2444441924660892,
          1.2395546840409102,
          1.2366018477132765,
          1.2243163929147236,
          1.2136487576921107,
          1.21715824280755,
          1.1962873026476069,
          1.2064604516756736,
          1.210682656805394,
          1.1868699425357883,
          1.1980011604600034,
          1.1941337928933613,
          1.1880222397335505,
          1.185214830657183,
          1.1701278120784435,
          1.1792236162444292,
          1.163310701564207,
          1.1612202009912265,
          1.1608846662408214,
          1.164202752759901,
          1.1490196322990676,
          1.1417608281313363,
          1.1592491117574402,
          1.1393752451670371,
          1.1446550336934753,
          1.1245253914493625,
          1.1315237283706665,
          1.140204430636713,
          1.1233112822144717,
          1.119068233643548,
          1.1150859008401126,
          1.1027350365105322,
          1.1063688407510013,
          1.095399353463771,
          1.1087033182887707,
          1.1109630505917436,
          1.1010467682854603,
          1.1062273403345528,
          1.1024161930811607,
          1.0936372967089636,
          1.08572677434501,
          1.1038981686204166,
          1.0937561746370994,
          1.083140767226785,
          1.0729564125255002,
          1.069456953113362,
          1.074691079430661,
          1.075152645676823,
          1.0988632480976945,
          1.069939141556368,
          1.0727739081544392,
          1.069052200196153,
          1.061870687088724,
          1.0632367366451327,
          1.0574355640653836,
          1.058140293016272,
          1.0635359155929696,
          1.0583787156363664,
          1.0510736774590055,
          1.0499988066948067,
          1.0621309654187348,
          1.0488293948820082,
          1.0523700926263453,
          1.0601118823229256,
          1.0497611215559102,
          1.0467486341120833,
          1.0543881786071647,
          1.0548530210882932,
          1.0446289767653256,
          1.0509215744875244,
          1.0684317976741466,
          1.0360717177391052,
          1.0434948761584395,
          1.0350898534564648,
          1.0312541733353824,
          1.0342887720819247,
          1.027361759694956,
          1.033670457742982,
          1.0349672638763816,
          1.0309391425827803,
          1.0276607083061995,
          1.0332094804715302,
          1.0447564902952162,
          1.0330818841012859,
          1.0311164461960227,
          1.017053750611968,
          1.0243995179564267,
          1.0211824289822982
         ]
        },
        {
         "mode": "lines",
         "name": "Validate loss",
         "type": "scatter",
         "x": [
          0,
          1,
          2,
          3,
          4,
          5,
          6,
          7,
          8,
          9,
          10,
          11,
          12,
          13,
          14,
          15,
          16,
          17,
          18,
          19,
          20,
          21,
          22,
          23,
          24,
          25,
          26,
          27,
          28,
          29,
          30,
          31,
          32,
          33,
          34,
          35,
          36,
          37,
          38,
          39,
          40,
          41,
          42,
          43,
          44,
          45,
          46,
          47,
          48,
          49,
          50,
          51,
          52,
          53,
          54,
          55,
          56,
          57,
          58,
          59,
          60,
          61,
          62,
          63,
          64,
          65,
          66,
          67,
          68,
          69,
          70,
          71,
          72,
          73,
          74,
          75,
          76,
          77,
          78,
          79,
          80,
          81,
          82,
          83,
          84,
          85,
          86,
          87,
          88,
          89,
          90,
          91,
          92,
          93,
          94,
          95,
          96,
          97,
          98,
          99,
          100,
          101,
          102,
          103,
          104,
          105,
          106,
          107,
          108,
          109,
          110,
          111,
          112,
          113,
          114,
          115,
          116,
          117,
          118,
          119,
          120,
          121,
          122,
          123,
          124,
          125,
          126,
          127,
          128,
          129,
          130,
          131,
          132,
          133,
          134,
          135,
          136,
          137,
          138,
          139,
          140,
          141,
          142,
          143,
          144,
          145,
          146,
          147,
          148,
          149,
          150,
          151,
          152,
          153,
          154,
          155,
          156,
          157,
          158,
          159,
          160,
          161,
          162,
          163,
          164,
          165,
          166,
          167,
          168,
          169,
          170,
          171,
          172,
          173,
          174,
          175,
          176,
          177,
          178,
          179,
          180,
          181,
          182,
          183,
          184,
          185,
          186,
          187,
          188,
          189,
          190,
          191,
          192,
          193,
          194,
          195,
          196,
          197,
          198,
          199,
          200,
          201,
          202,
          203,
          204,
          205,
          206,
          207,
          208,
          209,
          210,
          211,
          212,
          213,
          214,
          215,
          216
         ],
         "y": [
          53.4488748550415,
          54.38289499282837,
          53.300389766693115,
          54.321830940246585,
          54.65445747375488,
          54.73826923370361,
          54.251976299285886,
          53.936118030548094,
          53.761224842071535,
          53.364381980896,
          48.19431447982788,
          45.45025053024292,
          41.61817588806152,
          37.230294132232665,
          34.29434666633606,
          30.755244731903076,
          28.768514347076415,
          25.896972131729125,
          24.2938334941864,
          22.509276485443117,
          18.649382829666138,
          16.207551145553587,
          13.892187881469727,
          11.918390893936158,
          10.47744312286377,
          9.417727756500245,
          8.379681944847107,
          7.608746457099914,
          7.192349684238434,
          6.455102658271789,
          6.0833505392074585,
          5.703952133655548,
          5.322926986217499,
          5.028526788949966,
          4.8085919439792635,
          4.827679908275604,
          4.571987181901932,
          4.4879108488559725,
          4.3289314866065975,
          4.288217842578888,
          4.229656398296356,
          3.96463280916214,
          3.946458262205124,
          3.920357996225357,
          3.6173060536384583,
          3.642028737068176,
          3.555517929792404,
          3.4293667793273928,
          3.369185823202133,
          3.291270899772644,
          3.160169893503189,
          3.1174284636974336,
          3.0912955701351166,
          2.95801320374012,
          2.772997337579727,
          2.830014282464981,
          2.761984235048294,
          2.6408718436956407,
          2.606086814403534,
          2.5341794401407243,
          2.4368149280548095,
          2.4021522641181945,
          2.332921287417412,
          2.4987056374549867,
          2.3138564437627793,
          2.255518823862076,
          2.2123905956745147,
          2.157084220647812,
          2.2197669416666033,
          2.098443070054054,
          2.1615692138671876,
          2.0305546462535857,
          2.07505401968956,
          1.9911479383707047,
          1.9409875273704529,
          1.903829899430275,
          1.8354030579328537,
          1.8683757334947586,
          1.859548532962799,
          1.8446417599916458,
          1.793579164147377,
          1.783213347196579,
          1.7721036106348038,
          1.7191705256700516,
          1.672235482931137,
          1.734500139951706,
          1.6651498258113862,
          1.6652182400226594,
          1.6276444420218468,
          1.6383339762687683,
          1.6024972528219223,
          1.5789411306381225,
          1.6182082802057267,
          1.577350029349327,
          1.5431179970502853,
          1.496563321352005,
          1.5257144272327423,
          1.5257893800735474,
          1.4853247702121735,
          1.4857792645692824,
          1.4632547035813332,
          1.4836928576231003,
          1.4444171518087388,
          1.4562252700328826,
          1.4481576591730119,
          1.4306837737560272,
          1.3727524816989898,
          1.4030646681785583,
          1.3871674075722695,
          1.3675383269786834,
          1.3945956528186798,
          1.3760092735290528,
          1.3782140910625458,
          1.3446653246879579,
          1.3291499093174934,
          1.3430982738733293,
          1.3725607961416244,
          1.3341443836688995,
          1.3202477633953094,
          1.2824939161539077,
          1.292745327949524,
          1.2846694707870483,
          1.2777309700846673,
          1.2835730612277985,
          1.2931871637701988,
          1.2394050478935241,
          1.2483974069356918,
          1.2344770923256874,
          1.243808101117611,
          1.2397196009755134,
          1.231468391418457,
          1.2149781465530396,
          1.2502987802028656,
          1.2330678880214692,
          1.2223799914121627,
          1.2170906975865363,
          1.2064461320638658,
          1.210196742415428,
          1.1815383210778236,
          1.1789265871047974,
          1.188703253865242,
          1.1624948024749755,
          1.172010424733162,
          1.1820825651288032,
          1.1464421421289444,
          1.1534689277410508,
          1.1733625382184982,
          1.1477809369564056,
          1.1648767292499542,
          1.1477669462561608,
          1.174533724784851,
          1.146133227646351,
          1.134396642446518,
          1.1305659264326096,
          1.1270514875650406,
          1.1105862706899643,
          1.1096615225076676,
          1.1245035961270333,
          1.1364128187298774,
          1.1326392158865928,
          1.0974061742424965,
          1.1116713628172874,
          1.1073239535093307,
          1.1135141164064408,
          1.0765442982316018,
          1.0978743806481361,
          1.0844680607318877,
          1.1215216919779778,
          1.1177712991833686,
          1.0824302971363067,
          1.081154578924179,
          1.090150412917137,
          1.0906822726130485,
          1.0601524233818054,
          1.0814717635512352,
          1.0667065158486366,
          1.0631925940513611,
          1.067597283422947,
          1.084627816081047,
          1.0724224001169205,
          1.0866216167807579,
          1.0667626351118087,
          1.072253519296646,
          1.0698659986257553,
          1.0395008742809295,
          1.074781486392021,
          1.0458077549934388,
          1.0362954959273338,
          1.0278199046850205,
          1.0718633323907851,
          1.033756111562252,
          1.0627819865942,
          1.0330779179930687,
          1.048031523823738,
          1.060569056868553,
          1.0325260624289512,
          1.0483401477336884,
          1.0487595617771148,
          1.0589941561222076,
          1.0478272780776023,
          1.0345092073082924,
          1.032996241748333,
          1.0341637805104256,
          1.030314637720585,
          1.0288800150156021,
          1.032881148159504,
          1.0423951655626298,
          1.0100526854395866,
          1.0326049491763114,
          1.0410298585891724,
          1.0271078184247018,
          1.008651639521122,
          1.0353190287947656,
          1.008448238670826,
          1.024466648697853,
          1.0298422962427138,
          1.0165081188082694
         ]
        }
       ],
       "layout": {
        "template": {
         "data": {
          "bar": [
           {
            "error_x": {
             "color": "#2a3f5f"
            },
            "error_y": {
             "color": "#2a3f5f"
            },
            "marker": {
             "line": {
              "color": "#E5ECF6",
              "width": 0.5
             },
             "pattern": {
              "fillmode": "overlay",
              "size": 10,
              "solidity": 0.2
             }
            },
            "type": "bar"
           }
          ],
          "barpolar": [
           {
            "marker": {
             "line": {
              "color": "#E5ECF6",
              "width": 0.5
             },
             "pattern": {
              "fillmode": "overlay",
              "size": 10,
              "solidity": 0.2
             }
            },
            "type": "barpolar"
           }
          ],
          "carpet": [
           {
            "aaxis": {
             "endlinecolor": "#2a3f5f",
             "gridcolor": "white",
             "linecolor": "white",
             "minorgridcolor": "white",
             "startlinecolor": "#2a3f5f"
            },
            "baxis": {
             "endlinecolor": "#2a3f5f",
             "gridcolor": "white",
             "linecolor": "white",
             "minorgridcolor": "white",
             "startlinecolor": "#2a3f5f"
            },
            "type": "carpet"
           }
          ],
          "choropleth": [
           {
            "colorbar": {
             "outlinewidth": 0,
             "ticks": ""
            },
            "type": "choropleth"
           }
          ],
          "contour": [
           {
            "colorbar": {
             "outlinewidth": 0,
             "ticks": ""
            },
            "colorscale": [
             [
              0,
              "#0d0887"
             ],
             [
              0.1111111111111111,
              "#46039f"
             ],
             [
              0.2222222222222222,
              "#7201a8"
             ],
             [
              0.3333333333333333,
              "#9c179e"
             ],
             [
              0.4444444444444444,
              "#bd3786"
             ],
             [
              0.5555555555555556,
              "#d8576b"
             ],
             [
              0.6666666666666666,
              "#ed7953"
             ],
             [
              0.7777777777777778,
              "#fb9f3a"
             ],
             [
              0.8888888888888888,
              "#fdca26"
             ],
             [
              1,
              "#f0f921"
             ]
            ],
            "type": "contour"
           }
          ],
          "contourcarpet": [
           {
            "colorbar": {
             "outlinewidth": 0,
             "ticks": ""
            },
            "type": "contourcarpet"
           }
          ],
          "heatmap": [
           {
            "colorbar": {
             "outlinewidth": 0,
             "ticks": ""
            },
            "colorscale": [
             [
              0,
              "#0d0887"
             ],
             [
              0.1111111111111111,
              "#46039f"
             ],
             [
              0.2222222222222222,
              "#7201a8"
             ],
             [
              0.3333333333333333,
              "#9c179e"
             ],
             [
              0.4444444444444444,
              "#bd3786"
             ],
             [
              0.5555555555555556,
              "#d8576b"
             ],
             [
              0.6666666666666666,
              "#ed7953"
             ],
             [
              0.7777777777777778,
              "#fb9f3a"
             ],
             [
              0.8888888888888888,
              "#fdca26"
             ],
             [
              1,
              "#f0f921"
             ]
            ],
            "type": "heatmap"
           }
          ],
          "heatmapgl": [
           {
            "colorbar": {
             "outlinewidth": 0,
             "ticks": ""
            },
            "colorscale": [
             [
              0,
              "#0d0887"
             ],
             [
              0.1111111111111111,
              "#46039f"
             ],
             [
              0.2222222222222222,
              "#7201a8"
             ],
             [
              0.3333333333333333,
              "#9c179e"
             ],
             [
              0.4444444444444444,
              "#bd3786"
             ],
             [
              0.5555555555555556,
              "#d8576b"
             ],
             [
              0.6666666666666666,
              "#ed7953"
             ],
             [
              0.7777777777777778,
              "#fb9f3a"
             ],
             [
              0.8888888888888888,
              "#fdca26"
             ],
             [
              1,
              "#f0f921"
             ]
            ],
            "type": "heatmapgl"
           }
          ],
          "histogram": [
           {
            "marker": {
             "pattern": {
              "fillmode": "overlay",
              "size": 10,
              "solidity": 0.2
             }
            },
            "type": "histogram"
           }
          ],
          "histogram2d": [
           {
            "colorbar": {
             "outlinewidth": 0,
             "ticks": ""
            },
            "colorscale": [
             [
              0,
              "#0d0887"
             ],
             [
              0.1111111111111111,
              "#46039f"
             ],
             [
              0.2222222222222222,
              "#7201a8"
             ],
             [
              0.3333333333333333,
              "#9c179e"
             ],
             [
              0.4444444444444444,
              "#bd3786"
             ],
             [
              0.5555555555555556,
              "#d8576b"
             ],
             [
              0.6666666666666666,
              "#ed7953"
             ],
             [
              0.7777777777777778,
              "#fb9f3a"
             ],
             [
              0.8888888888888888,
              "#fdca26"
             ],
             [
              1,
              "#f0f921"
             ]
            ],
            "type": "histogram2d"
           }
          ],
          "histogram2dcontour": [
           {
            "colorbar": {
             "outlinewidth": 0,
             "ticks": ""
            },
            "colorscale": [
             [
              0,
              "#0d0887"
             ],
             [
              0.1111111111111111,
              "#46039f"
             ],
             [
              0.2222222222222222,
              "#7201a8"
             ],
             [
              0.3333333333333333,
              "#9c179e"
             ],
             [
              0.4444444444444444,
              "#bd3786"
             ],
             [
              0.5555555555555556,
              "#d8576b"
             ],
             [
              0.6666666666666666,
              "#ed7953"
             ],
             [
              0.7777777777777778,
              "#fb9f3a"
             ],
             [
              0.8888888888888888,
              "#fdca26"
             ],
             [
              1,
              "#f0f921"
             ]
            ],
            "type": "histogram2dcontour"
           }
          ],
          "mesh3d": [
           {
            "colorbar": {
             "outlinewidth": 0,
             "ticks": ""
            },
            "type": "mesh3d"
           }
          ],
          "parcoords": [
           {
            "line": {
             "colorbar": {
              "outlinewidth": 0,
              "ticks": ""
             }
            },
            "type": "parcoords"
           }
          ],
          "pie": [
           {
            "automargin": true,
            "type": "pie"
           }
          ],
          "scatter": [
           {
            "fillpattern": {
             "fillmode": "overlay",
             "size": 10,
             "solidity": 0.2
            },
            "type": "scatter"
           }
          ],
          "scatter3d": [
           {
            "line": {
             "colorbar": {
              "outlinewidth": 0,
              "ticks": ""
             }
            },
            "marker": {
             "colorbar": {
              "outlinewidth": 0,
              "ticks": ""
             }
            },
            "type": "scatter3d"
           }
          ],
          "scattercarpet": [
           {
            "marker": {
             "colorbar": {
              "outlinewidth": 0,
              "ticks": ""
             }
            },
            "type": "scattercarpet"
           }
          ],
          "scattergeo": [
           {
            "marker": {
             "colorbar": {
              "outlinewidth": 0,
              "ticks": ""
             }
            },
            "type": "scattergeo"
           }
          ],
          "scattergl": [
           {
            "marker": {
             "colorbar": {
              "outlinewidth": 0,
              "ticks": ""
             }
            },
            "type": "scattergl"
           }
          ],
          "scattermapbox": [
           {
            "marker": {
             "colorbar": {
              "outlinewidth": 0,
              "ticks": ""
             }
            },
            "type": "scattermapbox"
           }
          ],
          "scatterpolar": [
           {
            "marker": {
             "colorbar": {
              "outlinewidth": 0,
              "ticks": ""
             }
            },
            "type": "scatterpolar"
           }
          ],
          "scatterpolargl": [
           {
            "marker": {
             "colorbar": {
              "outlinewidth": 0,
              "ticks": ""
             }
            },
            "type": "scatterpolargl"
           }
          ],
          "scatterternary": [
           {
            "marker": {
             "colorbar": {
              "outlinewidth": 0,
              "ticks": ""
             }
            },
            "type": "scatterternary"
           }
          ],
          "surface": [
           {
            "colorbar": {
             "outlinewidth": 0,
             "ticks": ""
            },
            "colorscale": [
             [
              0,
              "#0d0887"
             ],
             [
              0.1111111111111111,
              "#46039f"
             ],
             [
              0.2222222222222222,
              "#7201a8"
             ],
             [
              0.3333333333333333,
              "#9c179e"
             ],
             [
              0.4444444444444444,
              "#bd3786"
             ],
             [
              0.5555555555555556,
              "#d8576b"
             ],
             [
              0.6666666666666666,
              "#ed7953"
             ],
             [
              0.7777777777777778,
              "#fb9f3a"
             ],
             [
              0.8888888888888888,
              "#fdca26"
             ],
             [
              1,
              "#f0f921"
             ]
            ],
            "type": "surface"
           }
          ],
          "table": [
           {
            "cells": {
             "fill": {
              "color": "#EBF0F8"
             },
             "line": {
              "color": "white"
             }
            },
            "header": {
             "fill": {
              "color": "#C8D4E3"
             },
             "line": {
              "color": "white"
             }
            },
            "type": "table"
           }
          ]
         },
         "layout": {
          "annotationdefaults": {
           "arrowcolor": "#2a3f5f",
           "arrowhead": 0,
           "arrowwidth": 1
          },
          "autotypenumbers": "strict",
          "coloraxis": {
           "colorbar": {
            "outlinewidth": 0,
            "ticks": ""
           }
          },
          "colorscale": {
           "diverging": [
            [
             0,
             "#8e0152"
            ],
            [
             0.1,
             "#c51b7d"
            ],
            [
             0.2,
             "#de77ae"
            ],
            [
             0.3,
             "#f1b6da"
            ],
            [
             0.4,
             "#fde0ef"
            ],
            [
             0.5,
             "#f7f7f7"
            ],
            [
             0.6,
             "#e6f5d0"
            ],
            [
             0.7,
             "#b8e186"
            ],
            [
             0.8,
             "#7fbc41"
            ],
            [
             0.9,
             "#4d9221"
            ],
            [
             1,
             "#276419"
            ]
           ],
           "sequential": [
            [
             0,
             "#0d0887"
            ],
            [
             0.1111111111111111,
             "#46039f"
            ],
            [
             0.2222222222222222,
             "#7201a8"
            ],
            [
             0.3333333333333333,
             "#9c179e"
            ],
            [
             0.4444444444444444,
             "#bd3786"
            ],
            [
             0.5555555555555556,
             "#d8576b"
            ],
            [
             0.6666666666666666,
             "#ed7953"
            ],
            [
             0.7777777777777778,
             "#fb9f3a"
            ],
            [
             0.8888888888888888,
             "#fdca26"
            ],
            [
             1,
             "#f0f921"
            ]
           ],
           "sequentialminus": [
            [
             0,
             "#0d0887"
            ],
            [
             0.1111111111111111,
             "#46039f"
            ],
            [
             0.2222222222222222,
             "#7201a8"
            ],
            [
             0.3333333333333333,
             "#9c179e"
            ],
            [
             0.4444444444444444,
             "#bd3786"
            ],
            [
             0.5555555555555556,
             "#d8576b"
            ],
            [
             0.6666666666666666,
             "#ed7953"
            ],
            [
             0.7777777777777778,
             "#fb9f3a"
            ],
            [
             0.8888888888888888,
             "#fdca26"
            ],
            [
             1,
             "#f0f921"
            ]
           ]
          },
          "colorway": [
           "#636efa",
           "#EF553B",
           "#00cc96",
           "#ab63fa",
           "#FFA15A",
           "#19d3f3",
           "#FF6692",
           "#B6E880",
           "#FF97FF",
           "#FECB52"
          ],
          "font": {
           "color": "#2a3f5f"
          },
          "geo": {
           "bgcolor": "white",
           "lakecolor": "white",
           "landcolor": "#E5ECF6",
           "showlakes": true,
           "showland": true,
           "subunitcolor": "white"
          },
          "hoverlabel": {
           "align": "left"
          },
          "hovermode": "closest",
          "mapbox": {
           "style": "light"
          },
          "paper_bgcolor": "white",
          "plot_bgcolor": "#E5ECF6",
          "polar": {
           "angularaxis": {
            "gridcolor": "white",
            "linecolor": "white",
            "ticks": ""
           },
           "bgcolor": "#E5ECF6",
           "radialaxis": {
            "gridcolor": "white",
            "linecolor": "white",
            "ticks": ""
           }
          },
          "scene": {
           "xaxis": {
            "backgroundcolor": "#E5ECF6",
            "gridcolor": "white",
            "gridwidth": 2,
            "linecolor": "white",
            "showbackground": true,
            "ticks": "",
            "zerolinecolor": "white"
           },
           "yaxis": {
            "backgroundcolor": "#E5ECF6",
            "gridcolor": "white",
            "gridwidth": 2,
            "linecolor": "white",
            "showbackground": true,
            "ticks": "",
            "zerolinecolor": "white"
           },
           "zaxis": {
            "backgroundcolor": "#E5ECF6",
            "gridcolor": "white",
            "gridwidth": 2,
            "linecolor": "white",
            "showbackground": true,
            "ticks": "",
            "zerolinecolor": "white"
           }
          },
          "shapedefaults": {
           "line": {
            "color": "#2a3f5f"
           }
          },
          "ternary": {
           "aaxis": {
            "gridcolor": "white",
            "linecolor": "white",
            "ticks": ""
           },
           "baxis": {
            "gridcolor": "white",
            "linecolor": "white",
            "ticks": ""
           },
           "bgcolor": "#E5ECF6",
           "caxis": {
            "gridcolor": "white",
            "linecolor": "white",
            "ticks": ""
           }
          },
          "title": {
           "x": 0.05
          },
          "xaxis": {
           "automargin": true,
           "gridcolor": "white",
           "linecolor": "white",
           "ticks": "",
           "title": {
            "standoff": 15
           },
           "zerolinecolor": "white",
           "zerolinewidth": 2
          },
          "yaxis": {
           "automargin": true,
           "gridcolor": "white",
           "linecolor": "white",
           "ticks": "",
           "title": {
            "standoff": 15
           },
           "zerolinecolor": "white",
           "zerolinewidth": 2
          }
         }
        },
        "xaxis": {
         "title": {
          "text": "epoch"
         }
        },
        "yaxis": {
         "title": {
          "text": "loss"
         }
        }
       }
      },
      "text/html": [
       "<div>                            <div id=\"31dda6da-4020-4765-b1cc-0734601499ed\" class=\"plotly-graph-div\" style=\"height:525px; width:100%;\"></div>            <script type=\"text/javascript\">                require([\"plotly\"], function(Plotly) {                    window.PLOTLYENV=window.PLOTLYENV || {};                                    if (document.getElementById(\"31dda6da-4020-4765-b1cc-0734601499ed\")) {                    Plotly.newPlot(                        \"31dda6da-4020-4765-b1cc-0734601499ed\",                        [{\"mode\":\"lines\",\"name\":\"Train loss\",\"x\":[0,1,2,3,4,5,6,7,8,9,10,11,12,13,14,15,16,17,18,19,20,21,22,23,24,25,26,27,28,29,30,31,32,33,34,35,36,37,38,39,40,41,42,43,44,45,46,47,48,49,50,51,52,53,54,55,56,57,58,59,60,61,62,63,64,65,66,67,68,69,70,71,72,73,74,75,76,77,78,79,80,81,82,83,84,85,86,87,88,89,90,91,92,93,94,95,96,97,98,99,100,101,102,103,104,105,106,107,108,109,110,111,112,113,114,115,116,117,118,119,120,121,122,123,124,125,126,127,128,129,130,131,132,133,134,135,136,137,138,139,140,141,142,143,144,145,146,147,148,149,150,151,152,153,154,155,156,157,158,159,160,161,162,163,164,165,166,167,168,169,170,171,172,173,174,175,176,177,178,179,180,181,182,183,184,185,186,187,188,189,190,191,192,193,194,195,196,197,198,199,200,201,202,203,204,205,206,207,208,209,210,211,212,213,214,215,216],\"y\":[54.11601018097441,53.866353762351864,53.71704618809587,53.99029398772676,53.96489023758193,53.86693948002185,53.93511807716499,53.924210176629536,54.252677982136355,53.888491937669656,51.55599994982703,46.995840428239205,42.87008919150142,38.85775368900622,35.647007570428364,32.6574261228917,30.2073396262476,27.48500652636512,25.241511425729524,23.025689141225005,20.371055473715572,17.418912451146014,14.962654598688674,12.903455233169815,11.31549812575518,9.961890042838403,8.972804344306558,8.11878308603319,7.470331596115888,6.8628569215030994,6.344004760354252,5.868126287298687,5.482214628639868,5.252058570667849,4.920354148088875,4.760971214811681,4.666181919938427,4.471934957019354,4.401315159716849,4.39481846356796,4.214140403068672,3.9870092262656,3.9658465021747653,3.8434183355105125,3.737534458354368,3.7008436009035273,3.5950151580875205,3.532137842501624,3.4429829807604775,3.3166225522251453,3.2494215924861067,3.170304092310243,3.136213924925206,2.9775260181750283,2.918181298142773,2.8239135176448498,2.789905164201381,2.741687014951544,2.655624013836101,2.5498375771409374,2.553403959435932,2.5065433332475564,2.4173678058688925,2.4176710823834955,2.3292984154264804,2.268667667599048,2.2625777276895813,2.2503907215797296,2.159766609385862,2.14442558409804,2.1070585170034635,2.0837556305578198,2.0404296244605113,1.9942216448864694,1.9780212701377222,1.9736346713567183,1.9358092849537478,1.896315924191879,1.8699712793705827,1.8682963989548764,1.8175459150540627,1.8138448646513081,1.8083703194634388,1.760030312053228,1.7252996452784135,1.722747938107636,1.6876674506623865,1.6904447604033908,1.6687299316212283,1.6592538255756184,1.6288944866697668,1.5973448672537076,1.5909860134124756,1.5687771793139182,1.5648159596879603,1.55534184787233,1.5426125587043116,1.5515184644925393,1.5214665340164961,1.4812415595782005,1.4735996622150227,1.461582464686895,1.454415224366269,1.4567229081008395,1.4399314411615922,1.4266545085583704,1.404373199252759,1.3966864670737316,1.4048169952327922,1.3712012484922247,1.3888065552307387,1.3829871032197596,1.3555319208209797,1.3520777265904314,1.3551259283292092,1.3387838440426325,1.3282544491654735,1.3186798802876876,1.3157654253102966,1.3046386827856808,1.3046178979388738,1.2856115183587802,1.2918466127524941,1.2825328636977633,1.2801498922251038,1.26058252181037,1.2586684489654283,1.2683559817782903,1.2561802500385348,1.2444441924660892,1.2395546840409102,1.2366018477132765,1.2243163929147236,1.2136487576921107,1.21715824280755,1.1962873026476069,1.2064604516756736,1.210682656805394,1.1868699425357883,1.1980011604600034,1.1941337928933613,1.1880222397335505,1.185214830657183,1.1701278120784435,1.1792236162444292,1.163310701564207,1.1612202009912265,1.1608846662408214,1.164202752759901,1.1490196322990676,1.1417608281313363,1.1592491117574402,1.1393752451670371,1.1446550336934753,1.1245253914493625,1.1315237283706665,1.140204430636713,1.1233112822144717,1.119068233643548,1.1150859008401126,1.1027350365105322,1.1063688407510013,1.095399353463771,1.1087033182887707,1.1109630505917436,1.1010467682854603,1.1062273403345528,1.1024161930811607,1.0936372967089636,1.08572677434501,1.1038981686204166,1.0937561746370994,1.083140767226785,1.0729564125255002,1.069456953113362,1.074691079430661,1.075152645676823,1.0988632480976945,1.069939141556368,1.0727739081544392,1.069052200196153,1.061870687088724,1.0632367366451327,1.0574355640653836,1.058140293016272,1.0635359155929696,1.0583787156363664,1.0510736774590055,1.0499988066948067,1.0621309654187348,1.0488293948820082,1.0523700926263453,1.0601118823229256,1.0497611215559102,1.0467486341120833,1.0543881786071647,1.0548530210882932,1.0446289767653256,1.0509215744875244,1.0684317976741466,1.0360717177391052,1.0434948761584395,1.0350898534564648,1.0312541733353824,1.0342887720819247,1.027361759694956,1.033670457742982,1.0349672638763816,1.0309391425827803,1.0276607083061995,1.0332094804715302,1.0447564902952162,1.0330818841012859,1.0311164461960227,1.017053750611968,1.0243995179564267,1.0211824289822982],\"type\":\"scatter\"},{\"mode\":\"lines\",\"name\":\"Validate loss\",\"x\":[0,1,2,3,4,5,6,7,8,9,10,11,12,13,14,15,16,17,18,19,20,21,22,23,24,25,26,27,28,29,30,31,32,33,34,35,36,37,38,39,40,41,42,43,44,45,46,47,48,49,50,51,52,53,54,55,56,57,58,59,60,61,62,63,64,65,66,67,68,69,70,71,72,73,74,75,76,77,78,79,80,81,82,83,84,85,86,87,88,89,90,91,92,93,94,95,96,97,98,99,100,101,102,103,104,105,106,107,108,109,110,111,112,113,114,115,116,117,118,119,120,121,122,123,124,125,126,127,128,129,130,131,132,133,134,135,136,137,138,139,140,141,142,143,144,145,146,147,148,149,150,151,152,153,154,155,156,157,158,159,160,161,162,163,164,165,166,167,168,169,170,171,172,173,174,175,176,177,178,179,180,181,182,183,184,185,186,187,188,189,190,191,192,193,194,195,196,197,198,199,200,201,202,203,204,205,206,207,208,209,210,211,212,213,214,215,216],\"y\":[53.4488748550415,54.38289499282837,53.300389766693115,54.321830940246585,54.65445747375488,54.73826923370361,54.251976299285886,53.936118030548094,53.761224842071535,53.364381980896,48.19431447982788,45.45025053024292,41.61817588806152,37.230294132232665,34.29434666633606,30.755244731903076,28.768514347076415,25.896972131729125,24.2938334941864,22.509276485443117,18.649382829666138,16.207551145553587,13.892187881469727,11.918390893936158,10.47744312286377,9.417727756500245,8.379681944847107,7.608746457099914,7.192349684238434,6.455102658271789,6.0833505392074585,5.703952133655548,5.322926986217499,5.028526788949966,4.8085919439792635,4.827679908275604,4.571987181901932,4.4879108488559725,4.3289314866065975,4.288217842578888,4.229656398296356,3.96463280916214,3.946458262205124,3.920357996225357,3.6173060536384583,3.642028737068176,3.555517929792404,3.4293667793273928,3.369185823202133,3.291270899772644,3.160169893503189,3.1174284636974336,3.0912955701351166,2.95801320374012,2.772997337579727,2.830014282464981,2.761984235048294,2.6408718436956407,2.606086814403534,2.5341794401407243,2.4368149280548095,2.4021522641181945,2.332921287417412,2.4987056374549867,2.3138564437627793,2.255518823862076,2.2123905956745147,2.157084220647812,2.2197669416666033,2.098443070054054,2.1615692138671876,2.0305546462535857,2.07505401968956,1.9911479383707047,1.9409875273704529,1.903829899430275,1.8354030579328537,1.8683757334947586,1.859548532962799,1.8446417599916458,1.793579164147377,1.783213347196579,1.7721036106348038,1.7191705256700516,1.672235482931137,1.734500139951706,1.6651498258113862,1.6652182400226594,1.6276444420218468,1.6383339762687683,1.6024972528219223,1.5789411306381225,1.6182082802057267,1.577350029349327,1.5431179970502853,1.496563321352005,1.5257144272327423,1.5257893800735474,1.4853247702121735,1.4857792645692824,1.4632547035813332,1.4836928576231003,1.4444171518087388,1.4562252700328826,1.4481576591730119,1.4306837737560272,1.3727524816989898,1.4030646681785583,1.3871674075722695,1.3675383269786834,1.3945956528186798,1.3760092735290528,1.3782140910625458,1.3446653246879579,1.3291499093174934,1.3430982738733293,1.3725607961416244,1.3341443836688995,1.3202477633953094,1.2824939161539077,1.292745327949524,1.2846694707870483,1.2777309700846673,1.2835730612277985,1.2931871637701988,1.2394050478935241,1.2483974069356918,1.2344770923256874,1.243808101117611,1.2397196009755134,1.231468391418457,1.2149781465530396,1.2502987802028656,1.2330678880214692,1.2223799914121627,1.2170906975865363,1.2064461320638658,1.210196742415428,1.1815383210778236,1.1789265871047974,1.188703253865242,1.1624948024749755,1.172010424733162,1.1820825651288032,1.1464421421289444,1.1534689277410508,1.1733625382184982,1.1477809369564056,1.1648767292499542,1.1477669462561608,1.174533724784851,1.146133227646351,1.134396642446518,1.1305659264326096,1.1270514875650406,1.1105862706899643,1.1096615225076676,1.1245035961270333,1.1364128187298774,1.1326392158865928,1.0974061742424965,1.1116713628172874,1.1073239535093307,1.1135141164064408,1.0765442982316018,1.0978743806481361,1.0844680607318877,1.1215216919779778,1.1177712991833686,1.0824302971363067,1.081154578924179,1.090150412917137,1.0906822726130485,1.0601524233818054,1.0814717635512352,1.0667065158486366,1.0631925940513611,1.067597283422947,1.084627816081047,1.0724224001169205,1.0866216167807579,1.0667626351118087,1.072253519296646,1.0698659986257553,1.0395008742809295,1.074781486392021,1.0458077549934388,1.0362954959273338,1.0278199046850205,1.0718633323907851,1.033756111562252,1.0627819865942,1.0330779179930687,1.048031523823738,1.060569056868553,1.0325260624289512,1.0483401477336884,1.0487595617771148,1.0589941561222076,1.0478272780776023,1.0345092073082924,1.032996241748333,1.0341637805104256,1.030314637720585,1.0288800150156021,1.032881148159504,1.0423951655626298,1.0100526854395866,1.0326049491763114,1.0410298585891724,1.0271078184247018,1.008651639521122,1.0353190287947656,1.008448238670826,1.024466648697853,1.0298422962427138,1.0165081188082694],\"type\":\"scatter\"}],                        {\"template\":{\"data\":{\"histogram2dcontour\":[{\"type\":\"histogram2dcontour\",\"colorbar\":{\"outlinewidth\":0,\"ticks\":\"\"},\"colorscale\":[[0.0,\"#0d0887\"],[0.1111111111111111,\"#46039f\"],[0.2222222222222222,\"#7201a8\"],[0.3333333333333333,\"#9c179e\"],[0.4444444444444444,\"#bd3786\"],[0.5555555555555556,\"#d8576b\"],[0.6666666666666666,\"#ed7953\"],[0.7777777777777778,\"#fb9f3a\"],[0.8888888888888888,\"#fdca26\"],[1.0,\"#f0f921\"]]}],\"choropleth\":[{\"type\":\"choropleth\",\"colorbar\":{\"outlinewidth\":0,\"ticks\":\"\"}}],\"histogram2d\":[{\"type\":\"histogram2d\",\"colorbar\":{\"outlinewidth\":0,\"ticks\":\"\"},\"colorscale\":[[0.0,\"#0d0887\"],[0.1111111111111111,\"#46039f\"],[0.2222222222222222,\"#7201a8\"],[0.3333333333333333,\"#9c179e\"],[0.4444444444444444,\"#bd3786\"],[0.5555555555555556,\"#d8576b\"],[0.6666666666666666,\"#ed7953\"],[0.7777777777777778,\"#fb9f3a\"],[0.8888888888888888,\"#fdca26\"],[1.0,\"#f0f921\"]]}],\"heatmap\":[{\"type\":\"heatmap\",\"colorbar\":{\"outlinewidth\":0,\"ticks\":\"\"},\"colorscale\":[[0.0,\"#0d0887\"],[0.1111111111111111,\"#46039f\"],[0.2222222222222222,\"#7201a8\"],[0.3333333333333333,\"#9c179e\"],[0.4444444444444444,\"#bd3786\"],[0.5555555555555556,\"#d8576b\"],[0.6666666666666666,\"#ed7953\"],[0.7777777777777778,\"#fb9f3a\"],[0.8888888888888888,\"#fdca26\"],[1.0,\"#f0f921\"]]}],\"heatmapgl\":[{\"type\":\"heatmapgl\",\"colorbar\":{\"outlinewidth\":0,\"ticks\":\"\"},\"colorscale\":[[0.0,\"#0d0887\"],[0.1111111111111111,\"#46039f\"],[0.2222222222222222,\"#7201a8\"],[0.3333333333333333,\"#9c179e\"],[0.4444444444444444,\"#bd3786\"],[0.5555555555555556,\"#d8576b\"],[0.6666666666666666,\"#ed7953\"],[0.7777777777777778,\"#fb9f3a\"],[0.8888888888888888,\"#fdca26\"],[1.0,\"#f0f921\"]]}],\"contourcarpet\":[{\"type\":\"contourcarpet\",\"colorbar\":{\"outlinewidth\":0,\"ticks\":\"\"}}],\"contour\":[{\"type\":\"contour\",\"colorbar\":{\"outlinewidth\":0,\"ticks\":\"\"},\"colorscale\":[[0.0,\"#0d0887\"],[0.1111111111111111,\"#46039f\"],[0.2222222222222222,\"#7201a8\"],[0.3333333333333333,\"#9c179e\"],[0.4444444444444444,\"#bd3786\"],[0.5555555555555556,\"#d8576b\"],[0.6666666666666666,\"#ed7953\"],[0.7777777777777778,\"#fb9f3a\"],[0.8888888888888888,\"#fdca26\"],[1.0,\"#f0f921\"]]}],\"surface\":[{\"type\":\"surface\",\"colorbar\":{\"outlinewidth\":0,\"ticks\":\"\"},\"colorscale\":[[0.0,\"#0d0887\"],[0.1111111111111111,\"#46039f\"],[0.2222222222222222,\"#7201a8\"],[0.3333333333333333,\"#9c179e\"],[0.4444444444444444,\"#bd3786\"],[0.5555555555555556,\"#d8576b\"],[0.6666666666666666,\"#ed7953\"],[0.7777777777777778,\"#fb9f3a\"],[0.8888888888888888,\"#fdca26\"],[1.0,\"#f0f921\"]]}],\"mesh3d\":[{\"type\":\"mesh3d\",\"colorbar\":{\"outlinewidth\":0,\"ticks\":\"\"}}],\"scatter\":[{\"fillpattern\":{\"fillmode\":\"overlay\",\"size\":10,\"solidity\":0.2},\"type\":\"scatter\"}],\"parcoords\":[{\"type\":\"parcoords\",\"line\":{\"colorbar\":{\"outlinewidth\":0,\"ticks\":\"\"}}}],\"scatterpolargl\":[{\"type\":\"scatterpolargl\",\"marker\":{\"colorbar\":{\"outlinewidth\":0,\"ticks\":\"\"}}}],\"bar\":[{\"error_x\":{\"color\":\"#2a3f5f\"},\"error_y\":{\"color\":\"#2a3f5f\"},\"marker\":{\"line\":{\"color\":\"#E5ECF6\",\"width\":0.5},\"pattern\":{\"fillmode\":\"overlay\",\"size\":10,\"solidity\":0.2}},\"type\":\"bar\"}],\"scattergeo\":[{\"type\":\"scattergeo\",\"marker\":{\"colorbar\":{\"outlinewidth\":0,\"ticks\":\"\"}}}],\"scatterpolar\":[{\"type\":\"scatterpolar\",\"marker\":{\"colorbar\":{\"outlinewidth\":0,\"ticks\":\"\"}}}],\"histogram\":[{\"marker\":{\"pattern\":{\"fillmode\":\"overlay\",\"size\":10,\"solidity\":0.2}},\"type\":\"histogram\"}],\"scattergl\":[{\"type\":\"scattergl\",\"marker\":{\"colorbar\":{\"outlinewidth\":0,\"ticks\":\"\"}}}],\"scatter3d\":[{\"type\":\"scatter3d\",\"line\":{\"colorbar\":{\"outlinewidth\":0,\"ticks\":\"\"}},\"marker\":{\"colorbar\":{\"outlinewidth\":0,\"ticks\":\"\"}}}],\"scattermapbox\":[{\"type\":\"scattermapbox\",\"marker\":{\"colorbar\":{\"outlinewidth\":0,\"ticks\":\"\"}}}],\"scatterternary\":[{\"type\":\"scatterternary\",\"marker\":{\"colorbar\":{\"outlinewidth\":0,\"ticks\":\"\"}}}],\"scattercarpet\":[{\"type\":\"scattercarpet\",\"marker\":{\"colorbar\":{\"outlinewidth\":0,\"ticks\":\"\"}}}],\"carpet\":[{\"aaxis\":{\"endlinecolor\":\"#2a3f5f\",\"gridcolor\":\"white\",\"linecolor\":\"white\",\"minorgridcolor\":\"white\",\"startlinecolor\":\"#2a3f5f\"},\"baxis\":{\"endlinecolor\":\"#2a3f5f\",\"gridcolor\":\"white\",\"linecolor\":\"white\",\"minorgridcolor\":\"white\",\"startlinecolor\":\"#2a3f5f\"},\"type\":\"carpet\"}],\"table\":[{\"cells\":{\"fill\":{\"color\":\"#EBF0F8\"},\"line\":{\"color\":\"white\"}},\"header\":{\"fill\":{\"color\":\"#C8D4E3\"},\"line\":{\"color\":\"white\"}},\"type\":\"table\"}],\"barpolar\":[{\"marker\":{\"line\":{\"color\":\"#E5ECF6\",\"width\":0.5},\"pattern\":{\"fillmode\":\"overlay\",\"size\":10,\"solidity\":0.2}},\"type\":\"barpolar\"}],\"pie\":[{\"automargin\":true,\"type\":\"pie\"}]},\"layout\":{\"autotypenumbers\":\"strict\",\"colorway\":[\"#636efa\",\"#EF553B\",\"#00cc96\",\"#ab63fa\",\"#FFA15A\",\"#19d3f3\",\"#FF6692\",\"#B6E880\",\"#FF97FF\",\"#FECB52\"],\"font\":{\"color\":\"#2a3f5f\"},\"hovermode\":\"closest\",\"hoverlabel\":{\"align\":\"left\"},\"paper_bgcolor\":\"white\",\"plot_bgcolor\":\"#E5ECF6\",\"polar\":{\"bgcolor\":\"#E5ECF6\",\"angularaxis\":{\"gridcolor\":\"white\",\"linecolor\":\"white\",\"ticks\":\"\"},\"radialaxis\":{\"gridcolor\":\"white\",\"linecolor\":\"white\",\"ticks\":\"\"}},\"ternary\":{\"bgcolor\":\"#E5ECF6\",\"aaxis\":{\"gridcolor\":\"white\",\"linecolor\":\"white\",\"ticks\":\"\"},\"baxis\":{\"gridcolor\":\"white\",\"linecolor\":\"white\",\"ticks\":\"\"},\"caxis\":{\"gridcolor\":\"white\",\"linecolor\":\"white\",\"ticks\":\"\"}},\"coloraxis\":{\"colorbar\":{\"outlinewidth\":0,\"ticks\":\"\"}},\"colorscale\":{\"sequential\":[[0.0,\"#0d0887\"],[0.1111111111111111,\"#46039f\"],[0.2222222222222222,\"#7201a8\"],[0.3333333333333333,\"#9c179e\"],[0.4444444444444444,\"#bd3786\"],[0.5555555555555556,\"#d8576b\"],[0.6666666666666666,\"#ed7953\"],[0.7777777777777778,\"#fb9f3a\"],[0.8888888888888888,\"#fdca26\"],[1.0,\"#f0f921\"]],\"sequentialminus\":[[0.0,\"#0d0887\"],[0.1111111111111111,\"#46039f\"],[0.2222222222222222,\"#7201a8\"],[0.3333333333333333,\"#9c179e\"],[0.4444444444444444,\"#bd3786\"],[0.5555555555555556,\"#d8576b\"],[0.6666666666666666,\"#ed7953\"],[0.7777777777777778,\"#fb9f3a\"],[0.8888888888888888,\"#fdca26\"],[1.0,\"#f0f921\"]],\"diverging\":[[0,\"#8e0152\"],[0.1,\"#c51b7d\"],[0.2,\"#de77ae\"],[0.3,\"#f1b6da\"],[0.4,\"#fde0ef\"],[0.5,\"#f7f7f7\"],[0.6,\"#e6f5d0\"],[0.7,\"#b8e186\"],[0.8,\"#7fbc41\"],[0.9,\"#4d9221\"],[1,\"#276419\"]]},\"xaxis\":{\"gridcolor\":\"white\",\"linecolor\":\"white\",\"ticks\":\"\",\"title\":{\"standoff\":15},\"zerolinecolor\":\"white\",\"automargin\":true,\"zerolinewidth\":2},\"yaxis\":{\"gridcolor\":\"white\",\"linecolor\":\"white\",\"ticks\":\"\",\"title\":{\"standoff\":15},\"zerolinecolor\":\"white\",\"automargin\":true,\"zerolinewidth\":2},\"scene\":{\"xaxis\":{\"backgroundcolor\":\"#E5ECF6\",\"gridcolor\":\"white\",\"linecolor\":\"white\",\"showbackground\":true,\"ticks\":\"\",\"zerolinecolor\":\"white\",\"gridwidth\":2},\"yaxis\":{\"backgroundcolor\":\"#E5ECF6\",\"gridcolor\":\"white\",\"linecolor\":\"white\",\"showbackground\":true,\"ticks\":\"\",\"zerolinecolor\":\"white\",\"gridwidth\":2},\"zaxis\":{\"backgroundcolor\":\"#E5ECF6\",\"gridcolor\":\"white\",\"linecolor\":\"white\",\"showbackground\":true,\"ticks\":\"\",\"zerolinecolor\":\"white\",\"gridwidth\":2}},\"shapedefaults\":{\"line\":{\"color\":\"#2a3f5f\"}},\"annotationdefaults\":{\"arrowcolor\":\"#2a3f5f\",\"arrowhead\":0,\"arrowwidth\":1},\"geo\":{\"bgcolor\":\"white\",\"landcolor\":\"#E5ECF6\",\"subunitcolor\":\"white\",\"showland\":true,\"showlakes\":true,\"lakecolor\":\"white\"},\"title\":{\"x\":0.05},\"mapbox\":{\"style\":\"light\"}}},\"xaxis\":{\"title\":{\"text\":\"epoch\"}},\"yaxis\":{\"title\":{\"text\":\"loss\"}}},                        {\"responsive\": true}                    ).then(function(){\n",
       "                            \n",
       "var gd = document.getElementById('31dda6da-4020-4765-b1cc-0734601499ed');\n",
       "var x = new MutationObserver(function (mutations, observer) {{\n",
       "        var display = window.getComputedStyle(gd).display;\n",
       "        if (!display || display === 'none') {{\n",
       "            console.log([gd, 'removed!']);\n",
       "            Plotly.purge(gd);\n",
       "            observer.disconnect();\n",
       "        }}\n",
       "}});\n",
       "\n",
       "// Listen for the removal of the full notebook cells\n",
       "var notebookContainer = gd.closest('#notebook-container');\n",
       "if (notebookContainer) {{\n",
       "    x.observe(notebookContainer, {childList: true});\n",
       "}}\n",
       "\n",
       "// Listen for the clearing of the current output cell\n",
       "var outputEl = gd.closest('.output');\n",
       "if (outputEl) {{\n",
       "    x.observe(outputEl, {childList: true});\n",
       "}}\n",
       "\n",
       "                        })                };                });            </script>        </div>"
      ]
     },
     "metadata": {},
     "output_type": "display_data"
    },
    {
     "data": {
      "application/vnd.jupyter.widget-view+json": {
       "model_id": "198d919d6b004527a4f306e370aa626b",
       "version_major": 2,
       "version_minor": 0
      },
      "text/plain": [
       "  0%|          | 0/59 [00:00<?, ?it/s]"
      ]
     },
     "metadata": {},
     "output_type": "display_data"
    },
    {
     "name": "stderr",
     "output_type": "stream",
     "text": [
      "Exception ignored in: <function _MultiProcessingDataLoaderIter.__del__ at 0x7f98517e3d80>\n",
      "Traceback (most recent call last):\n",
      "  File \"/home/motatasher/miniconda3/envs/DiplomaIsupov/lib/python3.12/site-packages/torch/utils/data/dataloader.py\", line 1618, in __del__\n",
      "    self._shutdown_workers()\n",
      "  File \"/home/motatasher/miniconda3/envs/DiplomaIsupov/lib/python3.12/site-packages/torch/utils/data/dataloader.py\", line 1601, in _shutdown_workers\n",
      "    if w.is_alive():\n",
      "       ^^^^^^^^^^^^\n",
      "  File \"/home/motatasher/miniconda3/envs/DiplomaIsupov/lib/python3.12/multiprocessing/process.py\", line 160, in is_alive\n",
      "    assert self._parent_pid == os.getpid(), 'can only test a child process'\n",
      "           ^^^^^^^^^^^^^^^^^^^^^^^^^^^^^^^\n",
      "AssertionError: can only test a child process\n",
      "Exception ignored in: <function _MultiProcessingDataLoaderIter.__del__ at 0x7f98517e3d80>\n",
      "Traceback (most recent call last):\n",
      "  File \"/home/motatasher/miniconda3/envs/DiplomaIsupov/lib/python3.12/site-packages/torch/utils/data/dataloader.py\", line 1618, in __del__\n",
      "    self._shutdown_workers()\n",
      "  File \"/home/motatasher/miniconda3/envs/DiplomaIsupov/lib/python3.12/site-packages/torch/utils/data/dataloader.py\", line 1601, in _shutdown_workers\n",
      "    if w.is_alive():Exception ignored in: \n",
      "       ^<function _MultiProcessingDataLoaderIter.__del__ at 0x7f98517e3d80>^\n",
      "^Traceback (most recent call last):\n",
      "^  File \"/home/motatasher/miniconda3/envs/DiplomaIsupov/lib/python3.12/site-packages/torch/utils/data/dataloader.py\", line 1618, in __del__\n",
      "^    ^self._shutdown_workers()^\n",
      "^  File \"/home/motatasher/miniconda3/envs/DiplomaIsupov/lib/python3.12/site-packages/torch/utils/data/dataloader.py\", line 1601, in _shutdown_workers\n",
      "^    ^if w.is_alive():^\n",
      "^ \n",
      "   File \"/home/motatasher/miniconda3/envs/DiplomaIsupov/lib/python3.12/multiprocessing/process.py\", line 160, in is_alive\n",
      "      assert self._parent_pid == os.getpid(), 'can only test a child process' \n",
      "    ^  ^ ^^  ^ ^ ^ ^ ^^^^^^^\n",
      "^  File \"/home/motatasher/miniconda3/envs/DiplomaIsupov/lib/python3.12/multiprocessing/process.py\", line 160, in is_alive\n",
      "^    ^assert self._parent_pid == os.getpid(), 'can only test a child process'^\n",
      "^ ^ ^ ^ ^ ^ ^ ^ ^ ^ ^ ^^^^^^^^^^^"
     ]
    }
   ],
   "source": [
    "TrainLib.train_model(model, TrainLib.scalar_dot_predictor, train_dataloader,\n",
    "                     val_dataloader, 1000, 3e-7, start_epoch=0, gamma=0.8, step_size=10, device=device)"
   ]
  },
  {
   "cell_type": "markdown",
   "metadata": {},
   "source": [
    "# Задачи"
   ]
  },
  {
   "cell_type": "markdown",
   "metadata": {},
   "source": [
    "## Model"
   ]
  },
  {
   "cell_type": "markdown",
   "metadata": {},
   "source": [
    "- задать веса для эмбедингов внутри модели\n",
    "- написать модель предсказывающую временной эмбединг, который должен не сильно меняться\n",
    "- поиграть с размером окна/разбитием на окна по метапараметрам (воле/чему-то ещё)\n",
    "- попробовать модель = один слой атеншена\n"
   ]
  },
  {
   "cell_type": "markdown",
   "metadata": {},
   "source": [
    "## Данные"
   ]
  },
  {
   "cell_type": "markdown",
   "metadata": {},
   "source": [
    "- наладить процесс скачивания\n",
    "- узнать таки, за какие даты у меня данные \n",
    "- а что с генерацией можно ещё придумать???\n",
    "- нагенерировать идей для генерации"
   ]
  }
 ],
 "metadata": {
  "kernelspec": {
   "display_name": "Python 3",
   "language": "python",
   "name": "python3"
  },
  "language_info": {
   "codemirror_mode": {
    "name": "ipython",
    "version": 3
   },
   "file_extension": ".py",
   "mimetype": "text/x-python",
   "name": "python",
   "nbconvert_exporter": "python",
   "pygments_lexer": "ipython3",
   "version": "3.12.8"
  }
 },
 "nbformat": 4,
 "nbformat_minor": 2
}
