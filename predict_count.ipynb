{
 "cells": [
  {
   "cell_type": "markdown",
   "metadata": {},
   "source": [
    "# Обучим gpt2 на данных"
   ]
  },
  {
   "cell_type": "code",
   "execution_count": 21,
   "metadata": {},
   "outputs": [],
   "source": [
    "from transformers import GPT2Tokenizer, TFGPT2Model\n",
    "import torch\n",
    "from transformers import AutoModelForCausalLM, AutoTokenizer"
   ]
  },
  {
   "cell_type": "code",
   "execution_count": 22,
   "metadata": {},
   "outputs": [
    {
     "data": {
      "text/plain": [
       "'cuda'"
      ]
     },
     "execution_count": 22,
     "metadata": {},
     "output_type": "execute_result"
    }
   ],
   "source": [
    "device = 'cpu' if not torch.cuda.is_available() else 'cuda'\n",
    "device"
   ]
  },
  {
   "cell_type": "code",
   "execution_count": 30,
   "metadata": {},
   "outputs": [
    {
     "data": {
      "text/plain": [
       "GPT2LMHeadModel(\n",
       "  (transformer): GPT2Model(\n",
       "    (wte): Embedding(50257, 768)\n",
       "    (wpe): Embedding(1024, 768)\n",
       "    (drop): Dropout(p=0.1, inplace=False)\n",
       "    (h): ModuleList(\n",
       "      (0-11): 12 x GPT2Block(\n",
       "        (ln_1): LayerNorm((768,), eps=1e-05, elementwise_affine=True)\n",
       "        (attn): GPT2Attention(\n",
       "          (c_attn): Conv1D()\n",
       "          (c_proj): Conv1D()\n",
       "          (attn_dropout): Dropout(p=0.1, inplace=False)\n",
       "          (resid_dropout): Dropout(p=0.1, inplace=False)\n",
       "        )\n",
       "        (ln_2): LayerNorm((768,), eps=1e-05, elementwise_affine=True)\n",
       "        (mlp): GPT2MLP(\n",
       "          (c_fc): Conv1D()\n",
       "          (c_proj): Conv1D()\n",
       "          (act): NewGELUActivation()\n",
       "          (dropout): Dropout(p=0.1, inplace=False)\n",
       "        )\n",
       "      )\n",
       "    )\n",
       "    (ln_f): LayerNorm((768,), eps=1e-05, elementwise_affine=True)\n",
       "  )\n",
       "  (lm_head): Linear(in_features=768, out_features=50257, bias=False)\n",
       ")"
      ]
     },
     "execution_count": 30,
     "metadata": {},
     "output_type": "execute_result"
    }
   ],
   "source": [
    "model = AutoModelForCausalLM.from_pretrained(\"gpt2\", torch_dtype=torch.float16)\n",
    "model.to(device)"
   ]
  },
  {
   "cell_type": "code",
   "execution_count": 26,
   "metadata": {},
   "outputs": [],
   "source": [
    "tokenizer = AutoTokenizer.from_pretrained(\"gpt2\")"
   ]
  },
  {
   "cell_type": "code",
   "execution_count": 40,
   "metadata": {},
   "outputs": [],
   "source": [
    "prompt = \"Hello, tell me how reconstruct you for predict volume on defu crypto market\""
   ]
  },
  {
   "cell_type": "code",
   "execution_count": 41,
   "metadata": {},
   "outputs": [],
   "source": [
    "model_inputs = tokenizer([prompt], return_tensors=\"pt\").to(device)"
   ]
  },
  {
   "cell_type": "code",
   "execution_count": 42,
   "metadata": {},
   "outputs": [
    {
     "name": "stderr",
     "output_type": "stream",
     "text": [
      "Setting `pad_token_id` to `eos_token_id`:50256 for open-end generation.\n"
     ]
    }
   ],
   "source": [
    "generated_ids = model.generate(**model_inputs, max_new_tokens=1000, do_sample=True)"
   ]
  },
  {
   "cell_type": "code",
   "execution_count": 47,
   "metadata": {},
   "outputs": [
    {
     "name": "stdout",
     "output_type": "stream",
     "text": [
      "Hello, tell me how reconstruct you for predict volume on defu crypto market and for time series in crypto.\n",
      "\n",
      "The real question we need are whether volume and price (for time series, period of time) for each and any crypto.\n",
      "\n",
      "There are many ways that they could come from various sources.\n",
      "\n",
      "It could come through a network, by running a web site and by simply running an application.\n",
      "\n",
      "Any of these mechanisms could be built on blockchain and a blockchain can be used as a proof of work in a cryptographic proof.\n",
      "\n",
      "It might be possible to build a whole business, like a business server for storing all transactions of people's transactions. In that model, it could be added into an existing blockchain as a proof of address.\n",
      "\n",
      "It might also come through a blockchain and maybe a blockchain could contain a public key, which could be used to encrypt or re-ignite the public keys.\n",
      "\n",
      "In this way even if a proof of address is established, it can also provide data to be stored on the network as proof.\n",
      "\n",
      "Here is an example that could be made.\n",
      "\n",
      "So this is based on your blockchain's proof of address.\n",
      "\n",
      "Let's say you are building a real server, and your server has no proof of address.\n",
      "\n",
      "The first thing to do is to perform a function called proof of address on each blockchain.\n",
      "\n",
      "A function I had been working on for some time now to construct a proof of address (for real time data) so we could do that on a regular blockchain.\n",
      "\n",
      "With this solution, we can use a standard method of verifying that a system is a proof of address of the blockchain.\n",
      "\n",
      "What does this mean to you?\n",
      "\n",
      "For me, how I'm going to test this is what I call the \"logging\". When I think about a computer, I think about what you're going to need to do and then I get a message as a result:\n",
      "\n",
      "Seed address of blockchain.\n",
      "\n",
      "What you are about to do is log this message, and the network will try to find you.\n",
      "\n",
      "By adding a proof of address to that message, the network will take the blockchain transaction and compare it to that message and the blockchain will check that we do indeed have a proof of address.\n",
      "\n",
      "For instance, the first thing I want to do is create a proof of address by running my proof of address on my system.\n",
      "\n",
      "You could send some commands to run the blockchain script to verify that you are not in Bitcoin. It might not know what I already know and that's one way to prevent this scam.\n",
      "\n",
      "And the other way I want to have Bitcoin send the blockchain script and so on, is to use my simple blockchain proof of address.\n",
      "\n",
      "Do what you want for your proof of address to appear and when the network tries to log that it found you, it is sent a message.\n",
      "\n",
      "The trick here is that in order to create a proof of address, you need to know each transaction block for that chain (we have already established a proof of address for one transaction block).\n",
      "\n",
      "Then you need to know which chains you got from your bitcoin transactions with your proof of address.\n",
      "\n",
      "With this method, we can test that I am not running the sha256 test from the bitcoin system I am running on.\n",
      "\n",
      "What if I'm on a \"non-uniform\" blockchain and want to log on to more than one specific chain.\n",
      "\n",
      "Let me tell you what I mean:\n",
      "\n",
      "It could be that you got a block which has more than one chain.\n",
      "\n",
      "Then it could be that you want to log on to a multiple chain. I don't even know whether you got a block that has a more than one chain. Maybe at some later point in time you have to look at every single transaction in the blockchain.\n",
      "\n",
      "We could set that block number up at the second level, then we could enter an error and it could fail –\n",
      "\n",
      "This would make it appear that mine didn't spend some bitcoin.\n",
      "\n",
      "Now you can only log on to a single chain. If you are on more than one chain you are already on less than one chain.\n",
      "\n",
      "Let's say we want to log on to one chain and log on to not one chain.\n",
      "\n",
      "That kind of is a huge problem that I believe would be solved by using a proof of address.\n",
      "\n",
      "Here is an example that could be made:\n",
      "\n",
      "You get a message saying \"yes\", and your blockchain says \"no\".\n",
      "\n",
      "Now then you can get another message saying \"yes\", and your blockchain says \"no\".\n",
      "\n",
      "So we could add this line to logon to our second chain…\n",
      "\n",
      "And that again we could make an error and it has one chain remaining.\n",
      "\n",
      "You could add to the record this error and if you add more to the record then you will get different block numbers:\n"
     ]
    }
   ],
   "source": [
    "print(tokenizer.batch_decode(generated_ids)[0])"
   ]
  },
  {
   "cell_type": "markdown",
   "metadata": {},
   "source": [
    "# Testing crio\n",
    " "
   ]
  },
  {
   "cell_type": "code",
   "execution_count": 2,
   "metadata": {},
   "outputs": [],
   "source": [
    "import pandas as pd\n",
    "import numpy as np\n",
    "import json\n",
    "import typing as tp\n",
    "from tqdm.notebook import tqdm"
   ]
  },
  {
   "cell_type": "code",
   "execution_count": 3,
   "metadata": {},
   "outputs": [],
   "source": [
    "import matplotlib.pyplot as plt\n",
    "import plotly.express as px"
   ]
  },
  {
   "cell_type": "code",
   "execution_count": 4,
   "metadata": {},
   "outputs": [],
   "source": [
    "import Code.Dataloader as dataloader\n",
    "import Code.Logger as logs\n",
    "\n",
    "import importlib\n",
    "importlib.reload(dataloader)\n",
    "importlib.reload(logs);"
   ]
  },
  {
   "cell_type": "code",
   "execution_count": 5,
   "metadata": {},
   "outputs": [],
   "source": [
    "%load_ext autoreload\n",
    "%autoreload 2"
   ]
  },
  {
   "cell_type": "code",
   "execution_count": 6,
   "metadata": {},
   "outputs": [
    {
     "data": {
      "application/vnd.jupyter.widget-view+json": {
       "model_id": "624e0f23a6ca4061a10854cd171ece7e",
       "version_major": 2,
       "version_minor": 0
      },
      "text/plain": [
       "  0%|          | 0/150 [00:00<?, ?it/s]"
      ]
     },
     "metadata": {},
     "output_type": "display_data"
    },
    {
     "name": "stdout",
     "output_type": "stream",
     "text": [
      "Write at logger: logs/logger_loader.log\n"
     ]
    }
   ],
   "source": [
    "start_ind = int(1e7)\n",
    "transactions = dataloader.GetTransactionsByInd(range(start_ind, start_ind + 150), logger_fake='logger_loader')\n"
   ]
  },
  {
   "cell_type": "code",
   "execution_count": 29,
   "metadata": {},
   "outputs": [
    {
     "data": {
      "application/vnd.jupyter.widget-view+json": {
       "model_id": "e770aec5cda44e1b9ecdeb532dc4da9e",
       "version_major": 2,
       "version_minor": 0
      },
      "text/plain": [
       "  0%|          | 0/100 [00:00<?, ?it/s]"
      ]
     },
     "metadata": {},
     "output_type": "display_data"
    },
    {
     "name": "stdout",
     "output_type": "stream",
     "text": [
      "Write at logger: logs/logger_loader.log\n"
     ]
    }
   ],
   "source": [
    "last_ind = int(2e7 + 1e6)\n",
    "size = 100\n",
    "transactions = dataloader.GetTransactionsByInd(range(last_ind, last_ind - size, -1), logger_fake='logger_loader')\n",
    "df_to_for_predict = transactions.loc[:, dataloader.useful_columns]"
   ]
  },
  {
   "cell_type": "code",
   "execution_count": 7,
   "metadata": {},
   "outputs": [
    {
     "data": {
      "application/vnd.jupyter.widget-view+json": {
       "model_id": "e4b1312ddca94693ae104ad6440a9199",
       "version_major": 2,
       "version_minor": 0
      },
      "text/plain": [
       "  0%|          | 0/4000 [00:00<?, ?it/s]"
      ]
     },
     "metadata": {},
     "output_type": "display_data"
    },
    {
     "name": "stdout",
     "output_type": "stream",
     "text": [
      "Write at logger: logs/logger_loader.log\n"
     ]
    }
   ],
   "source": [
    "last_ind = int(2e7 + 1e6)\n",
    "size = 4000\n",
    "transactions = dataloader.GetTransactionsByInd(range(last_ind, last_ind - size, -1), logger_fake='logger_loader')\n",
    "df_to_for_predict = transactions.loc[:, dataloader.useful_columns]"
   ]
  },
  {
   "cell_type": "code",
   "execution_count": 8,
   "metadata": {},
   "outputs": [
    {
     "data": {
      "text/html": [
       "<div>\n",
       "<style scoped>\n",
       "    .dataframe tbody tr th:only-of-type {\n",
       "        vertical-align: middle;\n",
       "    }\n",
       "\n",
       "    .dataframe tbody tr th {\n",
       "        vertical-align: top;\n",
       "    }\n",
       "\n",
       "    .dataframe thead th {\n",
       "        text-align: right;\n",
       "    }\n",
       "</style>\n",
       "<table border=\"1\" class=\"dataframe\">\n",
       "  <thead>\n",
       "    <tr style=\"text-align: right;\">\n",
       "      <th></th>\n",
       "      <th>timestamp</th>\n",
       "      <th>from</th>\n",
       "      <th>to</th>\n",
       "      <th>nonce</th>\n",
       "      <th>transactionIndex</th>\n",
       "      <th>type</th>\n",
       "      <th>value</th>\n",
       "    </tr>\n",
       "  </thead>\n",
       "  <tbody>\n",
       "    <tr>\n",
       "      <th>0</th>\n",
       "      <td>2024-10-19 13:45:47</td>\n",
       "      <td>1153599334270540825116534873609702723577695361442</td>\n",
       "      <td>360626852303502211918984836330587137786732780243</td>\n",
       "      <td>322</td>\n",
       "      <td>0</td>\n",
       "      <td>2</td>\n",
       "      <td>0.0</td>\n",
       "    </tr>\n",
       "    <tr>\n",
       "      <th>1</th>\n",
       "      <td>2024-10-19 13:45:47</td>\n",
       "      <td>97840791646144403883154721377920130019782939081</td>\n",
       "      <td>198711195697986279793524651792786476427874121482</td>\n",
       "      <td>39832</td>\n",
       "      <td>1</td>\n",
       "      <td>0</td>\n",
       "      <td>0.0</td>\n",
       "    </tr>\n",
       "    <tr>\n",
       "      <th>2</th>\n",
       "      <td>2024-10-19 13:45:47</td>\n",
       "      <td>1251277645027622750093042385120322446303808392872</td>\n",
       "      <td>331497450208276499761800402457369371151716489247</td>\n",
       "      <td>2196</td>\n",
       "      <td>2</td>\n",
       "      <td>2</td>\n",
       "      <td>0.3</td>\n",
       "    </tr>\n",
       "    <tr>\n",
       "      <th>3</th>\n",
       "      <td>2024-10-19 13:45:47</td>\n",
       "      <td>280854366049012869853841418439870510546273224552</td>\n",
       "      <td>466869609986913014237362913113971488315126327935</td>\n",
       "      <td>9202</td>\n",
       "      <td>3</td>\n",
       "      <td>2</td>\n",
       "      <td>0.0</td>\n",
       "    </tr>\n",
       "    <tr>\n",
       "      <th>4</th>\n",
       "      <td>2024-10-19 13:45:47</td>\n",
       "      <td>1228251626684428057107246147496081400699385431934</td>\n",
       "      <td>292072159098574616991920578893626132055744093257</td>\n",
       "      <td>13</td>\n",
       "      <td>4</td>\n",
       "      <td>2</td>\n",
       "      <td>0.0</td>\n",
       "    </tr>\n",
       "  </tbody>\n",
       "</table>\n",
       "</div>"
      ],
      "text/plain": [
       "            timestamp                                               from  \\\n",
       "0 2024-10-19 13:45:47  1153599334270540825116534873609702723577695361442   \n",
       "1 2024-10-19 13:45:47    97840791646144403883154721377920130019782939081   \n",
       "2 2024-10-19 13:45:47  1251277645027622750093042385120322446303808392872   \n",
       "3 2024-10-19 13:45:47   280854366049012869853841418439870510546273224552   \n",
       "4 2024-10-19 13:45:47  1228251626684428057107246147496081400699385431934   \n",
       "\n",
       "                                                 to  nonce  transactionIndex  \\\n",
       "0  360626852303502211918984836330587137786732780243    322                 0   \n",
       "1  198711195697986279793524651792786476427874121482  39832                 1   \n",
       "2  331497450208276499761800402457369371151716489247   2196                 2   \n",
       "3  466869609986913014237362913113971488315126327935   9202                 3   \n",
       "4  292072159098574616991920578893626132055744093257     13                 4   \n",
       "\n",
       "   type  value  \n",
       "0     2    0.0  \n",
       "1     0    0.0  \n",
       "2     2    0.3  \n",
       "3     2    0.0  \n",
       "4     2    0.0  "
      ]
     },
     "execution_count": 8,
     "metadata": {},
     "output_type": "execute_result"
    }
   ],
   "source": [
    "df_to_for_predict.head(5)"
   ]
  },
  {
   "cell_type": "code",
   "execution_count": 9,
   "metadata": {},
   "outputs": [
    {
     "data": {
      "text/html": [
       "<div>\n",
       "<style scoped>\n",
       "    .dataframe tbody tr th:only-of-type {\n",
       "        vertical-align: middle;\n",
       "    }\n",
       "\n",
       "    .dataframe tbody tr th {\n",
       "        vertical-align: top;\n",
       "    }\n",
       "\n",
       "    .dataframe thead th {\n",
       "        text-align: right;\n",
       "    }\n",
       "</style>\n",
       "<table border=\"1\" class=\"dataframe\">\n",
       "  <thead>\n",
       "    <tr style=\"text-align: right;\">\n",
       "      <th></th>\n",
       "      <th>timestamp</th>\n",
       "      <th>from</th>\n",
       "      <th>to</th>\n",
       "      <th>nonce</th>\n",
       "      <th>transactionIndex</th>\n",
       "      <th>type</th>\n",
       "      <th>value</th>\n",
       "    </tr>\n",
       "  </thead>\n",
       "  <tbody>\n",
       "    <tr>\n",
       "      <th>0</th>\n",
       "      <td>2024-10-19 13:45:47</td>\n",
       "      <td>1153599334270540825116534873609702723577695361442</td>\n",
       "      <td>360626852303502211918984836330587137786732780243</td>\n",
       "      <td>322</td>\n",
       "      <td>0</td>\n",
       "      <td>2</td>\n",
       "      <td>0.000000</td>\n",
       "    </tr>\n",
       "    <tr>\n",
       "      <th>1</th>\n",
       "      <td>2024-10-19 13:45:47</td>\n",
       "      <td>97840791646144403883154721377920130019782939081</td>\n",
       "      <td>198711195697986279793524651792786476427874121482</td>\n",
       "      <td>39832</td>\n",
       "      <td>1</td>\n",
       "      <td>0</td>\n",
       "      <td>0.000000</td>\n",
       "    </tr>\n",
       "    <tr>\n",
       "      <th>2</th>\n",
       "      <td>2024-10-19 13:45:47</td>\n",
       "      <td>1251277645027622750093042385120322446303808392872</td>\n",
       "      <td>331497450208276499761800402457369371151716489247</td>\n",
       "      <td>2196</td>\n",
       "      <td>2</td>\n",
       "      <td>2</td>\n",
       "      <td>0.300000</td>\n",
       "    </tr>\n",
       "    <tr>\n",
       "      <th>3</th>\n",
       "      <td>2024-10-19 13:45:47</td>\n",
       "      <td>280854366049012869853841418439870510546273224552</td>\n",
       "      <td>466869609986913014237362913113971488315126327935</td>\n",
       "      <td>9202</td>\n",
       "      <td>3</td>\n",
       "      <td>2</td>\n",
       "      <td>0.000000</td>\n",
       "    </tr>\n",
       "    <tr>\n",
       "      <th>4</th>\n",
       "      <td>2024-10-19 13:45:47</td>\n",
       "      <td>1228251626684428057107246147496081400699385431934</td>\n",
       "      <td>292072159098574616991920578893626132055744093257</td>\n",
       "      <td>13</td>\n",
       "      <td>4</td>\n",
       "      <td>2</td>\n",
       "      <td>0.000000</td>\n",
       "    </tr>\n",
       "    <tr>\n",
       "      <th>...</th>\n",
       "      <td>...</td>\n",
       "      <td>...</td>\n",
       "      <td>...</td>\n",
       "      <td>...</td>\n",
       "      <td>...</td>\n",
       "      <td>...</td>\n",
       "      <td>...</td>\n",
       "    </tr>\n",
       "    <tr>\n",
       "      <th>681514</th>\n",
       "      <td>2024-10-19 00:21:59</td>\n",
       "      <td>837865433964833422891484023321442669492373105524</td>\n",
       "      <td>191584147722255072433242915595244332879196446170</td>\n",
       "      <td>1899</td>\n",
       "      <td>142</td>\n",
       "      <td>2</td>\n",
       "      <td>0.051700</td>\n",
       "    </tr>\n",
       "    <tr>\n",
       "      <th>681515</th>\n",
       "      <td>2024-10-19 00:21:59</td>\n",
       "      <td>1341982172376672149206164609929775747728328435945</td>\n",
       "      <td>220055792843139045561585801015232763926786332487</td>\n",
       "      <td>739</td>\n",
       "      <td>143</td>\n",
       "      <td>2</td>\n",
       "      <td>1.070000</td>\n",
       "    </tr>\n",
       "    <tr>\n",
       "      <th>681516</th>\n",
       "      <td>2024-10-19 00:21:59</td>\n",
       "      <td>1341982172376672149206164609929775747728328435945</td>\n",
       "      <td>1035999569602475065091882782987322669415773824368</td>\n",
       "      <td>740</td>\n",
       "      <td>144</td>\n",
       "      <td>2</td>\n",
       "      <td>3.500000</td>\n",
       "    </tr>\n",
       "    <tr>\n",
       "      <th>681517</th>\n",
       "      <td>2024-10-19 00:21:59</td>\n",
       "      <td>797426624118554943717853765742630966158852298132</td>\n",
       "      <td>822577011310822776922505111099855628493985631924</td>\n",
       "      <td>129607</td>\n",
       "      <td>145</td>\n",
       "      <td>2</td>\n",
       "      <td>0.011111</td>\n",
       "    </tr>\n",
       "    <tr>\n",
       "      <th>681518</th>\n",
       "      <td>2024-10-19 00:21:59</td>\n",
       "      <td>960204984155350633956214665482891672036866772171</td>\n",
       "      <td>1316116832866057629303225241673770773142249607463</td>\n",
       "      <td>102187</td>\n",
       "      <td>146</td>\n",
       "      <td>2</td>\n",
       "      <td>0.061143</td>\n",
       "    </tr>\n",
       "  </tbody>\n",
       "</table>\n",
       "<p>681519 rows × 7 columns</p>\n",
       "</div>"
      ],
      "text/plain": [
       "                 timestamp                                               from  \\\n",
       "0      2024-10-19 13:45:47  1153599334270540825116534873609702723577695361442   \n",
       "1      2024-10-19 13:45:47    97840791646144403883154721377920130019782939081   \n",
       "2      2024-10-19 13:45:47  1251277645027622750093042385120322446303808392872   \n",
       "3      2024-10-19 13:45:47   280854366049012869853841418439870510546273224552   \n",
       "4      2024-10-19 13:45:47  1228251626684428057107246147496081400699385431934   \n",
       "...                    ...                                                ...   \n",
       "681514 2024-10-19 00:21:59   837865433964833422891484023321442669492373105524   \n",
       "681515 2024-10-19 00:21:59  1341982172376672149206164609929775747728328435945   \n",
       "681516 2024-10-19 00:21:59  1341982172376672149206164609929775747728328435945   \n",
       "681517 2024-10-19 00:21:59   797426624118554943717853765742630966158852298132   \n",
       "681518 2024-10-19 00:21:59   960204984155350633956214665482891672036866772171   \n",
       "\n",
       "                                                       to   nonce  \\\n",
       "0        360626852303502211918984836330587137786732780243     322   \n",
       "1        198711195697986279793524651792786476427874121482   39832   \n",
       "2        331497450208276499761800402457369371151716489247    2196   \n",
       "3        466869609986913014237362913113971488315126327935    9202   \n",
       "4        292072159098574616991920578893626132055744093257      13   \n",
       "...                                                   ...     ...   \n",
       "681514   191584147722255072433242915595244332879196446170    1899   \n",
       "681515   220055792843139045561585801015232763926786332487     739   \n",
       "681516  1035999569602475065091882782987322669415773824368     740   \n",
       "681517   822577011310822776922505111099855628493985631924  129607   \n",
       "681518  1316116832866057629303225241673770773142249607463  102187   \n",
       "\n",
       "        transactionIndex  type     value  \n",
       "0                      0     2  0.000000  \n",
       "1                      1     0  0.000000  \n",
       "2                      2     2  0.300000  \n",
       "3                      3     2  0.000000  \n",
       "4                      4     2  0.000000  \n",
       "...                  ...   ...       ...  \n",
       "681514               142     2  0.051700  \n",
       "681515               143     2  1.070000  \n",
       "681516               144     2  3.500000  \n",
       "681517               145     2  0.011111  \n",
       "681518               146     2  0.061143  \n",
       "\n",
       "[681519 rows x 7 columns]"
      ]
     },
     "execution_count": 9,
     "metadata": {},
     "output_type": "execute_result"
    }
   ],
   "source": [
    "df_to_for_predict"
   ]
  },
  {
   "cell_type": "code",
   "execution_count": 10,
   "metadata": {},
   "outputs": [
    {
     "data": {
      "text/plain": [
       "270513"
      ]
     },
     "execution_count": 10,
     "metadata": {},
     "output_type": "execute_result"
    }
   ],
   "source": [
    "len(df_to_for_predict['from'].value_counts())"
   ]
  },
  {
   "cell_type": "code",
   "execution_count": 11,
   "metadata": {},
   "outputs": [
    {
     "data": {
      "text/plain": [
       "1207"
      ]
     },
     "execution_count": 11,
     "metadata": {},
     "output_type": "execute_result"
    }
   ],
   "source": [
    "df_to_for_predict['to'].value_counts()[1038152369971993893212000844348416056966454179089]"
   ]
  },
  {
   "cell_type": "code",
   "execution_count": 12,
   "metadata": {},
   "outputs": [
    {
     "data": {
      "text/plain": [
       "1038152369971993893212000844348416056966454179089    3714\n",
       "994429647842349956202558210651765677140457008659     3309\n",
       "400789962006340549852869924061523720861624538968     3042\n",
       "1419341696234228896098404685584097748908379122240    3018\n",
       "1410425392916258954824992095144275378304893311983    2838\n",
       "                                                     ... \n",
       "927206689739642977492155253950622055263156919729        8\n",
       "1186323206451224481039780815181057901341565349240       8\n",
       "23686111723495434729121042396412173120871091657         8\n",
       "381015429815939808538946704394134465062915361066        8\n",
       "269008611119245695728519423589400739684769836987        8\n",
       "Name: from, Length: 9000, dtype: int64"
      ]
     },
     "execution_count": 12,
     "metadata": {},
     "output_type": "execute_result"
    }
   ],
   "source": [
    "df_to_for_predict['from'].value_counts()[:9000]"
   ]
  },
  {
   "cell_type": "code",
   "execution_count": 13,
   "metadata": {},
   "outputs": [],
   "source": [
    "# grouped = df_to_for_predict.groupby('from').value.mean()\n",
    "# for name, cnt in df_to_for_predict['from'].value_counts()[:30].items():\n",
    "#     print(f\"cnt: {cnt}, mean volume: {grouped[name]}: \")"
   ]
  },
  {
   "cell_type": "code",
   "execution_count": 14,
   "metadata": {},
   "outputs": [
    {
     "data": {
      "text/plain": [
       "1.6485877701251912"
      ]
     },
     "execution_count": 14,
     "metadata": {},
     "output_type": "execute_result"
    }
   ],
   "source": [
    "df_to_for_predict.groupby('from').value.mean()[1038152369971993893212000844348416056966454179089]"
   ]
  },
  {
   "cell_type": "code",
   "execution_count": 15,
   "metadata": {},
   "outputs": [],
   "source": [
    "mean_sell = df_to_for_predict.groupby('from').value.mean()"
   ]
  },
  {
   "cell_type": "code",
   "execution_count": 16,
   "metadata": {},
   "outputs": [
    {
     "data": {
      "text/plain": [
       "array([3714, 3309, 3042, ...,    1,    1,    1])"
      ]
     },
     "execution_count": 16,
     "metadata": {},
     "output_type": "execute_result"
    }
   ],
   "source": [
    "top_sellers = df_to_for_predict['from'].value_counts().values\n",
    "top_sellers"
   ]
  },
  {
   "cell_type": "code",
   "execution_count": 17,
   "metadata": {},
   "outputs": [
    {
     "data": {
      "image/png": "[encoded data removed]",
      "text/plain": [
       "<Figure size 640x480 with 1 Axes>"
      ]
     },
     "metadata": {},
     "output_type": "display_data"
    }
   ],
   "source": [
    "plt.hist(top_sellers[top_sellers < 20], bins=20);"
   ]
  },
  {
   "cell_type": "code",
   "execution_count": 18,
   "metadata": {},
   "outputs": [
    {
     "data": {
      "image/png": "[encoded data removed]",
      "text/plain": [
       "<Figure size 640x480 with 1 Axes>"
      ]
     },
     "metadata": {},
     "output_type": "display_data"
    }
   ],
   "source": [
    "plt.hist(top_sellers[(top_sellers > 20) & (top_sellers <= 100)], bins=40);"
   ]
  },
  {
   "cell_type": "code",
   "execution_count": 19,
   "metadata": {},
   "outputs": [
    {
     "data": {
      "image/png": "[encoded data removed]",
      "text/plain": [
       "<Figure size 640x480 with 1 Axes>"
      ]
     },
     "metadata": {},
     "output_type": "display_data"
    }
   ],
   "source": [
    "plt.hist(top_sellers[top_sellers > 100], bins=50);"
   ]
  },
  {
   "cell_type": "code",
   "execution_count": 20,
   "metadata": {},
   "outputs": [],
   "source": [
    "# pd.DataFrame(\n",
    "#     [df_to_for_predict.loc[df_to_for_predict['from'] == ind, 'value'].describe().values.reshape(8) for ind in top_sellers],\n",
    "#     index=top_sellers,\n",
    "#     columns=df_to_for_predict.loc[df_to_for_predict['from'] == top_sellers[0], 'value'].describe().index\n",
    "#     )\n"
   ]
  },
  {
   "cell_type": "markdown",
   "metadata": {},
   "source": [
    "# Bert!!!"
   ]
  },
  {
   "cell_type": "code",
   "execution_count": 21,
   "metadata": {},
   "outputs": [
    {
     "data": {
      "text/plain": [
       "Index(['timestamp', 'from', 'to', 'nonce', 'transactionIndex', 'type',\n",
       "       'value'],\n",
       "      dtype='object')"
      ]
     },
     "execution_count": 21,
     "metadata": {},
     "output_type": "execute_result"
    }
   ],
   "source": [
    "df_to_for_predict.columns"
   ]
  },
  {
   "cell_type": "code",
   "execution_count": 22,
   "metadata": {},
   "outputs": [],
   "source": [
    "df_raw = df_to_for_predict.values\n",
    "IND_FROM = df_to_for_predict.columns.get_loc('from')\n",
    "IND_TO = df_to_for_predict.columns.get_loc('to')\n",
    "IND_NONCE = df_to_for_predict.columns.get_loc('nonce')\n",
    "IND_INDEX = df_to_for_predict.columns.get_loc('transactionIndex')\n",
    "IND_TYPE = df_to_for_predict.columns.get_loc('type')\n",
    "IND_VALUE = df_to_for_predict.columns.get_loc('value')"
   ]
  },
  {
   "cell_type": "code",
   "execution_count": 23,
   "metadata": {},
   "outputs": [
    {
     "data": {
      "image/png": "[encoded data removed]",
      "text/plain": [
       "<Figure size 640x480 with 1 Axes>"
      ]
     },
     "metadata": {},
     "output_type": "display_data"
    }
   ],
   "source": [
    "plt.hist(df_raw[:, IND_VALUE][\n",
    "    (df_raw[:, IND_VALUE] > 100) & \\\n",
    "    (df_raw[:, IND_VALUE] < 1250)\n",
    "        ], bins=12);"
   ]
  },
  {
   "cell_type": "code",
   "execution_count": 24,
   "metadata": {},
   "outputs": [
    {
     "name": "stderr",
     "output_type": "stream",
     "text": [
      "2024-10-27 23:29:56.830897: I tensorflow/core/util/port.cc:153] oneDNN custom operations are on. You may see slightly different numerical results due to floating-point round-off errors from different computation orders. To turn them off, set the environment variable `TF_ENABLE_ONEDNN_OPTS=0`.\n",
      "2024-10-27 23:29:56.862483: E external/local_xla/xla/stream_executor/cuda/cuda_fft.cc:485] Unable to register cuFFT factory: Attempting to register factory for plugin cuFFT when one has already been registered\n",
      "2024-10-27 23:29:56.880385: E external/local_xla/xla/stream_executor/cuda/cuda_dnn.cc:8454] Unable to register cuDNN factory: Attempting to register factory for plugin cuDNN when one has already been registered\n",
      "2024-10-27 23:29:56.885382: E external/local_xla/xla/stream_executor/cuda/cuda_blas.cc:1452] Unable to register cuBLAS factory: Attempting to register factory for plugin cuBLAS when one has already been registered\n",
      "2024-10-27 23:29:56.910401: I tensorflow/core/platform/cpu_feature_guard.cc:210] This TensorFlow binary is optimized to use available CPU instructions in performance-critical operations.\n",
      "To enable the following instructions: AVX2 AVX_VNNI FMA, in other operations, rebuild TensorFlow with the appropriate compiler flags.\n",
      "2024-10-27 23:29:57.674589: W tensorflow/compiler/tf2tensorrt/utils/py_utils.cc:38] TF-TRT Warning: Could not find TensorRT\n"
     ]
    }
   ],
   "source": [
    "import datetime\n",
    "import torch\n",
    "import torch.nn as nn\n",
    "import torch.optim as optim\n",
    "from torch.utils.data import Dataset, DataLoader\n",
    "from transformers import BertConfig, BertModel\n",
    "import numpy as np"
   ]
  },
  {
   "cell_type": "code",
   "execution_count": 254,
   "metadata": {},
   "outputs": [],
   "source": [
    "def extract_time_features(timestamps):\n",
    "    hours = [timestamp.hour for timestamp in timestamps]\n",
    "    days_of_week = [timestamp.weekday() for timestamp in timestamps]\n",
    "    days_of_month = [timestamp.day for timestamp in timestamps]\n",
    "    months = [timestamp.month for timestamp in timestamps]\n",
    "    years = [timestamp.year for timestamp in timestamps]\n",
    "    minutes = [timestamp.minute for timestamp in timestamps]\n",
    "    seconds = [timestamp.second for timestamp in timestamps]\n",
    "    return [seconds, minutes, hours, days_of_week, days_of_month, months, years, [timestamp.timestamp() for timestamp in timestamps]]\n",
    "\n",
    "class TransactionDataset(Dataset):\n",
    "    def __init__(self, data, known_address, sample_len):\n",
    "        self.data = data\n",
    "        self.known_address = known_address\n",
    "        self.sample_len = sample_len\n",
    "\n",
    "    def __len__(self):\n",
    "        return len(self.data) // self.sample_len\n",
    "\n",
    "    def __getitem__(self, idx):\n",
    "        sample = self.data[idx * self.sample_len: (idx + 1) * self.sample_len]\n",
    "        time_features = extract_time_features(sample[:, 0])\n",
    "        from_address = sample[:, IND_FROM]\n",
    "        to_address = sample[:, IND_TO]\n",
    "        from_ind = np.full_like(from_address, len(self.known_address), dtype=int)\n",
    "        to_ind = np.full_like(to_address, len(self.known_address), dtype=int)\n",
    "\n",
    "        for ind, addr in enumerate(self.known_address):\n",
    "            from_ind[from_address == addr] = ind\n",
    "            to_ind[to_address == addr] = ind\n",
    "\n",
    "        numeric_features = [sample[:, IND_NONCE], sample[:, IND_INDEX], sample[:, IND_TYPE]]\n",
    "        numeric_features = torch.tensor(numeric_features, dtype=torch.float)\n",
    "        # input_features = torch.cat((torch.tensor([from_address, to_address], dtype=torch.float), numeric_features), dim=0)\n",
    "        return {\n",
    "            'numeric_features': numeric_features.T,\n",
    "            'from_address': torch.tensor(from_ind, dtype=torch.long).T,\n",
    "            'to_address': torch.tensor(to_ind, dtype=torch.long).T,\n",
    "            'time_features': torch.tensor(time_features, dtype=torch.float).T,\n",
    "            'value': torch.tensor(sample[:, IND_VALUE].astype(float), dtype=torch.float)\n",
    "        }"
   ]
  },
  {
   "cell_type": "code",
   "execution_count": 288,
   "metadata": {},
   "outputs": [],
   "source": [
    "class BertForTransactionRegression(nn.Module):\n",
    "    def __init__(self, known_address_len, emb_size=64):\n",
    "        super(BertForTransactionRegression, self).__init__()\n",
    "        config = BertConfig()\n",
    "        config.hidden_size = emb_size * 3 + 3  # Adjust hidden size to match the input dimension\n",
    "        self.bert = BertModel(config)\n",
    "        self.address_embedding = nn.Embedding(num_embeddings=known_address_len + 1, embedding_dim=emb_size)\n",
    "        self.time_embedding = nn.Linear(8, emb_size)  # Embedding layer for time features\n",
    "        self.linear = nn.Linear(config.hidden_size, 1)\n",
    "    \n",
    "    def forward(self, numeric_features, from_address, to_address, time_features):\n",
    "        from_emb = self.address_embedding(from_address)\n",
    "        to_emb = self.address_embedding(to_address)\n",
    "\n",
    "        time_emb = self.time_embedding(time_features)\n",
    "        # for x in [numeric_features, from_emb, to_emb, time_emb]:\n",
    "        #     print(x.shape)\n",
    "        features = torch.cat([numeric_features, from_emb, to_emb, time_emb], dim=-1)\n",
    "        # print(features.shape)\n",
    "        # print(features.shape)\n",
    "        # print(features.shape)\n",
    "        bert_output = self.bert(inputs_embeds=features).last_hidden_state\n",
    "        # pooled_output = torch.mean(bert_output, dim=1)\n",
    "        value_pred = self.linear(bert_output)\n",
    "        return value_pred.squeeze(-1)"
   ]
  },
  {
   "cell_type": "code",
   "execution_count": 328,
   "metadata": {},
   "outputs": [],
   "source": [
    "def train_model(model, train_loader, num_epochs=5, learning_rate=1e-5, device='cuda'):\n",
    "    optimizer = optim.Adam(model.parameters(), lr=learning_rate)\n",
    "    scheduler = torch.optim.lr_scheduler.StepLR(optimizer, step_size=5, gamma=0.1)\n",
    "    loss_fn = nn.MSELoss()\n",
    "    model.train()\n",
    "    for epoch in range(num_epochs):\n",
    "        total_loss = 0\n",
    "        for batch in tqdm(train_loader):\n",
    "            optimizer.zero_grad()\n",
    "            outputs = model(\n",
    "                numeric_features=batch['numeric_features'].to(device),\n",
    "                from_address=batch['from_address'].to(device),\n",
    "                to_address=batch['to_address'].to(device),\n",
    "                time_features=batch['time_features'].to(device)\n",
    "            )\n",
    "            loss = loss_fn(outputs, torch.log(batch['value'].to(device) + 0.01))\n",
    "            total_loss += loss.cpu().detach().item()\n",
    "            loss.backward()\n",
    "            optimizer.step()\n",
    "        scheduler.step()\n",
    "        avg_loss = total_loss / len(train_loader)\n",
    "        print(f'Epoch [{epoch+1}/{num_epochs}], Loss: {avg_loss:.4f}')"
   ]
  },
  {
   "cell_type": "code",
   "execution_count": 318,
   "metadata": {},
   "outputs": [],
   "source": [
    "cnt_known_address = 200\n",
    "known_address = pd.concat([df_to_for_predict['to'], df_to_for_predict['from']]).value_counts()[:cnt_known_address].keys()"
   ]
  },
  {
   "cell_type": "code",
   "execution_count": 343,
   "metadata": {},
   "outputs": [
    {
     "name": "stdout",
     "output_type": "stream",
     "text": [
      "numeric_features: torch.Size([100, 3])\n",
      "from_address: torch.Size([100])\n",
      "to_address: torch.Size([100])\n",
      "time_features: torch.Size([100, 8])\n",
      "value: torch.Size([100])\n"
     ]
    }
   ],
   "source": [
    "dataset = TransactionDataset(df_raw, list(known_address), 100)\n",
    "for name, value in dataset[1].items():\n",
    "    print(f\"{name}: {value.shape}\")\n",
    "# dataset[1]"
   ]
  },
  {
   "cell_type": "code",
   "execution_count": 344,
   "metadata": {},
   "outputs": [],
   "source": [
    "device = 'cuda'"
   ]
  },
  {
   "cell_type": "code",
   "execution_count": 345,
   "metadata": {},
   "outputs": [],
   "source": [
    "model = BertForTransactionRegression(len(known_address), 63).to(device)"
   ]
  },
  {
   "cell_type": "code",
   "execution_count": 346,
   "metadata": {},
   "outputs": [],
   "source": [
    "train_batch_gen = torch.utils.data.DataLoader(dataset, \n",
    "                                              batch_size=16,\n",
    "                                              shuffle=True,\n",
    "                                              num_workers=12)"
   ]
  },
  {
   "cell_type": "code",
   "execution_count": 347,
   "metadata": {},
   "outputs": [
    {
     "data": {
      "application/vnd.jupyter.widget-view+json": {
       "model_id": "cbb0e7ae6d324c96ad4bc192799c01b1",
       "version_major": 2,
       "version_minor": 0
      },
      "text/plain": [
       "  0%|          | 0/426 [00:00<?, ?it/s]"
      ]
     },
     "metadata": {},
     "output_type": "display_data"
    },
    {
     "name": "stdout",
     "output_type": "stream",
     "text": [
      "Epoch [1/30], Loss: 2.1790\n"
     ]
    },
    {
     "data": {
      "application/vnd.jupyter.widget-view+json": {
       "model_id": "367546ffee01482e9e7e2b21882f8399",
       "version_major": 2,
       "version_minor": 0
      },
      "text/plain": [
       "  0%|          | 0/426 [00:00<?, ?it/s]"
      ]
     },
     "metadata": {},
     "output_type": "display_data"
    },
    {
     "name": "stdout",
     "output_type": "stream",
     "text": [
      "Epoch [2/30], Loss: 1.8688\n"
     ]
    },
    {
     "data": {
      "application/vnd.jupyter.widget-view+json": {
       "model_id": "bf558d0150bb497a9610cc578a4b7319",
       "version_major": 2,
       "version_minor": 0
      },
      "text/plain": [
       "  0%|          | 0/426 [00:00<?, ?it/s]"
      ]
     },
     "metadata": {},
     "output_type": "display_data"
    },
    {
     "name": "stdout",
     "output_type": "stream",
     "text": [
      "Epoch [3/30], Loss: 1.8694\n"
     ]
    },
    {
     "data": {
      "application/vnd.jupyter.widget-view+json": {
       "model_id": "a7826288a50e43b9862468c0705f44cf",
       "version_major": 2,
       "version_minor": 0
      },
      "text/plain": [
       "  0%|          | 0/426 [00:00<?, ?it/s]"
      ]
     },
     "metadata": {},
     "output_type": "display_data"
    },
    {
     "name": "stdout",
     "output_type": "stream",
     "text": [
      "Epoch [4/30], Loss: 1.8678\n"
     ]
    },
    {
     "data": {
      "application/vnd.jupyter.widget-view+json": {
       "model_id": "9e02c612726b4210b369f0007a258977",
       "version_major": 2,
       "version_minor": 0
      },
      "text/plain": [
       "  0%|          | 0/426 [00:00<?, ?it/s]"
      ]
     },
     "metadata": {},
     "output_type": "display_data"
    },
    {
     "name": "stdout",
     "output_type": "stream",
     "text": [
      "Epoch [5/30], Loss: 1.8681\n"
     ]
    },
    {
     "data": {
      "application/vnd.jupyter.widget-view+json": {
       "model_id": "753e9c5f2abe4b39b317ef42efcd91f6",
       "version_major": 2,
       "version_minor": 0
      },
      "text/plain": [
       "  0%|          | 0/426 [00:00<?, ?it/s]"
      ]
     },
     "metadata": {},
     "output_type": "display_data"
    },
    {
     "name": "stdout",
     "output_type": "stream",
     "text": [
      "Epoch [6/30], Loss: 1.8580\n"
     ]
    },
    {
     "data": {
      "application/vnd.jupyter.widget-view+json": {
       "model_id": "4cfbb8483bc04b06af2cebd3380d5bee",
       "version_major": 2,
       "version_minor": 0
      },
      "text/plain": [
       "  0%|          | 0/426 [00:00<?, ?it/s]"
      ]
     },
     "metadata": {},
     "output_type": "display_data"
    },
    {
     "name": "stdout",
     "output_type": "stream",
     "text": [
      "Epoch [7/30], Loss: 1.8588\n"
     ]
    },
    {
     "data": {
      "application/vnd.jupyter.widget-view+json": {
       "model_id": "ba78e40058024f8c892d8f57524f9b8b",
       "version_major": 2,
       "version_minor": 0
      },
      "text/plain": [
       "  0%|          | 0/426 [00:00<?, ?it/s]"
      ]
     },
     "metadata": {},
     "output_type": "display_data"
    },
    {
     "name": "stdout",
     "output_type": "stream",
     "text": [
      "Epoch [8/30], Loss: 1.8587\n"
     ]
    },
    {
     "data": {
      "application/vnd.jupyter.widget-view+json": {
       "model_id": "cd297d6c136a420db436702875133821",
       "version_major": 2,
       "version_minor": 0
      },
      "text/plain": [
       "  0%|          | 0/426 [00:00<?, ?it/s]"
      ]
     },
     "metadata": {},
     "output_type": "display_data"
    },
    {
     "ename": "KeyboardInterrupt",
     "evalue": "",
     "output_type": "error",
     "traceback": [
      "\u001b[0;31m---------------------------------------------------------------------------\u001b[0m",
      "\u001b[0;31mKeyboardInterrupt\u001b[0m                         Traceback (most recent call last)",
      "Cell \u001b[0;32mIn[347], line 1\u001b[0m\n\u001b[0;32m----> 1\u001b[0m \u001b[43mtrain_model\u001b[49m\u001b[43m(\u001b[49m\u001b[43mmodel\u001b[49m\u001b[43m,\u001b[49m\u001b[43m \u001b[49m\u001b[43mtrain_batch_gen\u001b[49m\u001b[43m,\u001b[49m\u001b[43m \u001b[49m\u001b[38;5;241;43m30\u001b[39;49m\u001b[43m,\u001b[49m\u001b[43m \u001b[49m\u001b[38;5;241;43m1e-2\u001b[39;49m\u001b[43m)\u001b[49m\n",
      "Cell \u001b[0;32mIn[328], line 18\u001b[0m, in \u001b[0;36mtrain_model\u001b[0;34m(model, train_loader, num_epochs, learning_rate, device)\u001b[0m\n\u001b[1;32m     16\u001b[0m     loss \u001b[38;5;241m=\u001b[39m loss_fn(outputs, torch\u001b[38;5;241m.\u001b[39mlog(batch[\u001b[38;5;124m'\u001b[39m\u001b[38;5;124mvalue\u001b[39m\u001b[38;5;124m'\u001b[39m]\u001b[38;5;241m.\u001b[39mto(device) \u001b[38;5;241m+\u001b[39m \u001b[38;5;241m0.01\u001b[39m))\n\u001b[1;32m     17\u001b[0m     total_loss \u001b[38;5;241m+\u001b[39m\u001b[38;5;241m=\u001b[39m loss\u001b[38;5;241m.\u001b[39mcpu()\u001b[38;5;241m.\u001b[39mdetach()\u001b[38;5;241m.\u001b[39mitem()\n\u001b[0;32m---> 18\u001b[0m     \u001b[43mloss\u001b[49m\u001b[38;5;241;43m.\u001b[39;49m\u001b[43mbackward\u001b[49m\u001b[43m(\u001b[49m\u001b[43m)\u001b[49m\n\u001b[1;32m     19\u001b[0m     optimizer\u001b[38;5;241m.\u001b[39mstep()\n\u001b[1;32m     20\u001b[0m scheduler\u001b[38;5;241m.\u001b[39mstep()\n",
      "File \u001b[0;32m~/.local/lib/python3.10/site-packages/torch/_tensor.py:581\u001b[0m, in \u001b[0;36mTensor.backward\u001b[0;34m(self, gradient, retain_graph, create_graph, inputs)\u001b[0m\n\u001b[1;32m    571\u001b[0m \u001b[38;5;28;01mif\u001b[39;00m has_torch_function_unary(\u001b[38;5;28mself\u001b[39m):\n\u001b[1;32m    572\u001b[0m     \u001b[38;5;28;01mreturn\u001b[39;00m handle_torch_function(\n\u001b[1;32m    573\u001b[0m         Tensor\u001b[38;5;241m.\u001b[39mbackward,\n\u001b[1;32m    574\u001b[0m         (\u001b[38;5;28mself\u001b[39m,),\n\u001b[0;32m   (...)\u001b[0m\n\u001b[1;32m    579\u001b[0m         inputs\u001b[38;5;241m=\u001b[39minputs,\n\u001b[1;32m    580\u001b[0m     )\n\u001b[0;32m--> 581\u001b[0m \u001b[43mtorch\u001b[49m\u001b[38;5;241;43m.\u001b[39;49m\u001b[43mautograd\u001b[49m\u001b[38;5;241;43m.\u001b[39;49m\u001b[43mbackward\u001b[49m\u001b[43m(\u001b[49m\n\u001b[1;32m    582\u001b[0m \u001b[43m    \u001b[49m\u001b[38;5;28;43mself\u001b[39;49m\u001b[43m,\u001b[49m\u001b[43m \u001b[49m\u001b[43mgradient\u001b[49m\u001b[43m,\u001b[49m\u001b[43m \u001b[49m\u001b[43mretain_graph\u001b[49m\u001b[43m,\u001b[49m\u001b[43m \u001b[49m\u001b[43mcreate_graph\u001b[49m\u001b[43m,\u001b[49m\u001b[43m \u001b[49m\u001b[43minputs\u001b[49m\u001b[38;5;241;43m=\u001b[39;49m\u001b[43minputs\u001b[49m\n\u001b[1;32m    583\u001b[0m \u001b[43m\u001b[49m\u001b[43m)\u001b[49m\n",
      "File \u001b[0;32m~/.local/lib/python3.10/site-packages/torch/autograd/__init__.py:347\u001b[0m, in \u001b[0;36mbackward\u001b[0;34m(tensors, grad_tensors, retain_graph, create_graph, grad_variables, inputs)\u001b[0m\n\u001b[1;32m    342\u001b[0m     retain_graph \u001b[38;5;241m=\u001b[39m create_graph\n\u001b[1;32m    344\u001b[0m \u001b[38;5;66;03m# The reason we repeat the same comment below is that\u001b[39;00m\n\u001b[1;32m    345\u001b[0m \u001b[38;5;66;03m# some Python versions print out the first line of a multi-line function\u001b[39;00m\n\u001b[1;32m    346\u001b[0m \u001b[38;5;66;03m# calls in the traceback and some print out the last line\u001b[39;00m\n\u001b[0;32m--> 347\u001b[0m \u001b[43m_engine_run_backward\u001b[49m\u001b[43m(\u001b[49m\n\u001b[1;32m    348\u001b[0m \u001b[43m    \u001b[49m\u001b[43mtensors\u001b[49m\u001b[43m,\u001b[49m\n\u001b[1;32m    349\u001b[0m \u001b[43m    \u001b[49m\u001b[43mgrad_tensors_\u001b[49m\u001b[43m,\u001b[49m\n\u001b[1;32m    350\u001b[0m \u001b[43m    \u001b[49m\u001b[43mretain_graph\u001b[49m\u001b[43m,\u001b[49m\n\u001b[1;32m    351\u001b[0m \u001b[43m    \u001b[49m\u001b[43mcreate_graph\u001b[49m\u001b[43m,\u001b[49m\n\u001b[1;32m    352\u001b[0m \u001b[43m    \u001b[49m\u001b[43minputs\u001b[49m\u001b[43m,\u001b[49m\n\u001b[1;32m    353\u001b[0m \u001b[43m    \u001b[49m\u001b[43mallow_unreachable\u001b[49m\u001b[38;5;241;43m=\u001b[39;49m\u001b[38;5;28;43;01mTrue\u001b[39;49;00m\u001b[43m,\u001b[49m\n\u001b[1;32m    354\u001b[0m \u001b[43m    \u001b[49m\u001b[43maccumulate_grad\u001b[49m\u001b[38;5;241;43m=\u001b[39;49m\u001b[38;5;28;43;01mTrue\u001b[39;49;00m\u001b[43m,\u001b[49m\n\u001b[1;32m    355\u001b[0m \u001b[43m\u001b[49m\u001b[43m)\u001b[49m\n",
      "File \u001b[0;32m~/.local/lib/python3.10/site-packages/torch/autograd/graph.py:825\u001b[0m, in \u001b[0;36m_engine_run_backward\u001b[0;34m(t_outputs, *args, **kwargs)\u001b[0m\n\u001b[1;32m    823\u001b[0m     unregister_hooks \u001b[38;5;241m=\u001b[39m _register_logging_hooks_on_whole_graph(t_outputs)\n\u001b[1;32m    824\u001b[0m \u001b[38;5;28;01mtry\u001b[39;00m:\n\u001b[0;32m--> 825\u001b[0m     \u001b[38;5;28;01mreturn\u001b[39;00m \u001b[43mVariable\u001b[49m\u001b[38;5;241;43m.\u001b[39;49m\u001b[43m_execution_engine\u001b[49m\u001b[38;5;241;43m.\u001b[39;49m\u001b[43mrun_backward\u001b[49m\u001b[43m(\u001b[49m\u001b[43m  \u001b[49m\u001b[38;5;66;43;03m# Calls into the C++ engine to run the backward pass\u001b[39;49;00m\n\u001b[1;32m    826\u001b[0m \u001b[43m        \u001b[49m\u001b[43mt_outputs\u001b[49m\u001b[43m,\u001b[49m\u001b[43m \u001b[49m\u001b[38;5;241;43m*\u001b[39;49m\u001b[43margs\u001b[49m\u001b[43m,\u001b[49m\u001b[43m \u001b[49m\u001b[38;5;241;43m*\u001b[39;49m\u001b[38;5;241;43m*\u001b[39;49m\u001b[43mkwargs\u001b[49m\n\u001b[1;32m    827\u001b[0m \u001b[43m    \u001b[49m\u001b[43m)\u001b[49m  \u001b[38;5;66;03m# Calls into the C++ engine to run the backward pass\u001b[39;00m\n\u001b[1;32m    828\u001b[0m \u001b[38;5;28;01mfinally\u001b[39;00m:\n\u001b[1;32m    829\u001b[0m     \u001b[38;5;28;01mif\u001b[39;00m attach_logging_hooks:\n",
      "\u001b[0;31mKeyboardInterrupt\u001b[0m: "
     ]
    }
   ],
   "source": [
    "train_model(model, train_batch_gen, 30, 1e-2)"
   ]
  },
  {
   "cell_type": "code",
   "execution_count": 348,
   "metadata": {},
   "outputs": [],
   "source": [
    "it = iter(train_batch_gen)"
   ]
  },
  {
   "cell_type": "code",
   "execution_count": 349,
   "metadata": {},
   "outputs": [],
   "source": [
    "batch = next(it)"
   ]
  },
  {
   "cell_type": "code",
   "execution_count": 350,
   "metadata": {},
   "outputs": [],
   "source": [
    "with torch.no_grad():\n",
    "    outputs = model(\n",
    "        numeric_features=batch['numeric_features'].to(device),\n",
    "        from_address=batch['from_address'].to(device),\n",
    "        to_address=batch['to_address'].to(device),\n",
    "        time_features=batch['time_features'].to(device)\n",
    "    )"
   ]
  },
  {
   "cell_type": "code",
   "execution_count": 351,
   "metadata": {},
   "outputs": [
    {
     "data": {
      "text/plain": [
       "tensor([[0.0000e+00, 5.0000e-03, 2.5763e-01,  ..., 0.0000e+00, 0.0000e+00,\n",
       "         0.0000e+00],\n",
       "        [0.0000e+00, 0.0000e+00, 5.1194e-03,  ..., 2.2603e-03, 1.4321e-02,\n",
       "         0.0000e+00],\n",
       "        [2.8174e-03, 2.8174e-03, 2.8174e-03,  ..., 3.1930e+01, 0.0000e+00,\n",
       "         0.0000e+00],\n",
       "        ...,\n",
       "        [0.0000e+00, 0.0000e+00, 4.3800e-02,  ..., 2.4270e-13, 8.9700e-15,\n",
       "         0.0000e+00],\n",
       "        [0.0000e+00, 0.0000e+00, 0.0000e+00,  ..., 4.0000e-01, 0.0000e+00,\n",
       "         0.0000e+00],\n",
       "        [9.4311e-03, 0.0000e+00, 2.0000e-03,  ..., 0.0000e+00, 0.0000e+00,\n",
       "         1.6838e-03]])"
      ]
     },
     "execution_count": 351,
     "metadata": {},
     "output_type": "execute_result"
    }
   ],
   "source": [
    "batch['value']"
   ]
  },
  {
   "cell_type": "code",
   "execution_count": 355,
   "metadata": {},
   "outputs": [
    {
     "data": {
      "text/plain": [
       "tensor([[0.0197, 0.0221, 0.0226,  ..., 0.0204, 0.0199, 0.0186],\n",
       "        [0.0187, 0.0178, 0.0205,  ..., 0.0218, 0.0205, 0.0208],\n",
       "        [0.0193, 0.0196, 0.0190,  ..., 0.0189, 0.0195, 0.0190],\n",
       "        ...,\n",
       "        [0.0195, 0.0196, 0.0202,  ..., 0.0182, 0.0211, 0.0215],\n",
       "        [0.0187, 0.0200, 0.0197,  ..., 0.0173, 0.0197, 0.0184],\n",
       "        [0.0190, 0.0196, 0.0197,  ..., 0.0191, 0.0181, 0.0205]],\n",
       "       device='cuda:0')"
      ]
     },
     "execution_count": 355,
     "metadata": {},
     "output_type": "execute_result"
    }
   ],
   "source": [
    "torch.exp(outputs)"
   ]
  },
  {
   "cell_type": "code",
   "execution_count": 358,
   "metadata": {},
   "outputs": [
    {
     "data": {
      "text/plain": [
       "(array([6.81491e+05, 1.60000e+01, 7.00000e+00, 0.00000e+00, 0.00000e+00,\n",
       "        1.00000e+00, 0.00000e+00, 2.00000e+00, 1.00000e+00, 1.00000e+00]),\n",
       " array([0.0, 1261.269560509567, 2522.539121019134, 3783.8086815287015,\n",
       "        5045.078242038268, 6306.347802547835, 7567.617363057403,\n",
       "        8828.88692356697, 10090.156484076537, 11351.426044586104,\n",
       "        12612.69560509567], dtype=object),\n",
       " <BarContainer object of 10 artists>)"
      ]
     },
     "execution_count": 358,
     "metadata": {},
     "output_type": "execute_result"
    },
    {
     "data": {
      "image/png": "[encoded data removed]",
      "text/plain": [
       "<Figure size 640x480 with 1 Axes>"
      ]
     },
     "metadata": {},
     "output_type": "display_data"
    }
   ],
   "source": [
    "plt.hist(df_raw[:, IND_VALUE])"
   ]
  }
 ],
 "metadata": {
  "kernelspec": {
   "display_name": "Python 3",
   "language": "python",
   "name": "python3"
  },
  "language_info": {
   "codemirror_mode": {
    "name": "ipython",
    "version": 3
   },
   "file_extension": ".py",
   "mimetype": "text/x-python",
   "name": "python",
   "nbconvert_exporter": "python",
   "pygments_lexer": "ipython3",
   "version": "3.10.12"
  }
 },
 "nbformat": 4,
 "nbformat_minor": 2
}
